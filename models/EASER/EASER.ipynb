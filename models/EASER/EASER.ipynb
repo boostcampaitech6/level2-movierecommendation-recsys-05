{
 "cells": [
  {
   "cell_type": "markdown",
   "metadata": {},
   "source": [
    "# EASER Movie Recommendation"
   ]
  },
  {
   "cell_type": "markdown",
   "metadata": {},
   "source": [
    "## Library"
   ]
  },
  {
   "cell_type": "code",
   "execution_count": 1,
   "metadata": {},
   "outputs": [],
   "source": [
    "import os\n",
    "import sys\n",
    "import random\n",
    "import time\n",
    "\n",
    "import torch\n",
    "import torch.nn as nn\n",
    "import torch.optim as optim\n",
    "import torch.nn.functional as F\n",
    "\n",
    "import numpy as np\n",
    "import pandas as pd\n",
    "from scipy import sparse"
   ]
  },
  {
   "cell_type": "markdown",
   "metadata": {},
   "source": [
    "## Config"
   ]
  },
  {
   "cell_type": "code",
   "execution_count": 2,
   "metadata": {},
   "outputs": [],
   "source": [
    "import yaml\n",
    "\n",
    "def load_config(config_file):\n",
    "    with open(config_file, 'r') as stream:\n",
    "        try:\n",
    "            config = yaml.safe_load(stream)\n",
    "        except yaml.YAMLError as exc:\n",
    "            print(exc)\n",
    "    return config\n",
    "\n",
    "cfg = load_config('config.yaml')"
   ]
  },
  {
   "cell_type": "code",
   "execution_count": 3,
   "metadata": {},
   "outputs": [
    {
     "name": "stdout",
     "output_type": "stream",
     "text": [
      "CUDA is available\n"
     ]
    },
    {
     "data": {
      "text/plain": [
       "device(type='cuda')"
      ]
     },
     "execution_count": 3,
     "metadata": {},
     "output_type": "execute_result"
    }
   ],
   "source": [
    "if torch.cuda.is_available():\n",
    "    print('CUDA is available')\n",
    "    cfg['device'] = True\n",
    "\n",
    "device = torch.device('cuda' if cfg['device'] else 'cpu')\n",
    "device"
   ]
  },
  {
   "cell_type": "code",
   "execution_count": 4,
   "metadata": {},
   "outputs": [
    {
     "data": {
      "text/plain": [
       "<torch._C.Generator at 0x7f9d7f1d0590>"
      ]
     },
     "execution_count": 4,
     "metadata": {},
     "output_type": "execute_result"
    }
   ],
   "source": [
    "random.seed(cfg['seed'])\n",
    "np.random.seed(cfg['seed'])\n",
    "torch.manual_seed(cfg['seed'])\n"
   ]
  },
  {
   "cell_type": "code",
   "execution_count": 5,
   "metadata": {},
   "outputs": [],
   "source": [
    "raw_data = pd.read_csv(os.path.join(cfg['DATA_DIR'], cfg['data']), header=0, usecols=[0, 1])"
   ]
  },
  {
   "cell_type": "code",
   "execution_count": 6,
   "metadata": {},
   "outputs": [
    {
     "data": {
      "text/html": [
       "<div>\n",
       "<style scoped>\n",
       "    .dataframe tbody tr th:only-of-type {\n",
       "        vertical-align: middle;\n",
       "    }\n",
       "\n",
       "    .dataframe tbody tr th {\n",
       "        vertical-align: top;\n",
       "    }\n",
       "\n",
       "    .dataframe thead th {\n",
       "        text-align: right;\n",
       "    }\n",
       "</style>\n",
       "<table border=\"1\" class=\"dataframe\">\n",
       "  <thead>\n",
       "    <tr style=\"text-align: right;\">\n",
       "      <th></th>\n",
       "      <th>user</th>\n",
       "      <th>item</th>\n",
       "    </tr>\n",
       "  </thead>\n",
       "  <tbody>\n",
       "    <tr>\n",
       "      <th>0</th>\n",
       "      <td>11</td>\n",
       "      <td>4643</td>\n",
       "    </tr>\n",
       "    <tr>\n",
       "      <th>1</th>\n",
       "      <td>11</td>\n",
       "      <td>170</td>\n",
       "    </tr>\n",
       "    <tr>\n",
       "      <th>2</th>\n",
       "      <td>11</td>\n",
       "      <td>531</td>\n",
       "    </tr>\n",
       "    <tr>\n",
       "      <th>3</th>\n",
       "      <td>11</td>\n",
       "      <td>616</td>\n",
       "    </tr>\n",
       "    <tr>\n",
       "      <th>4</th>\n",
       "      <td>11</td>\n",
       "      <td>2140</td>\n",
       "    </tr>\n",
       "    <tr>\n",
       "      <th>...</th>\n",
       "      <td>...</td>\n",
       "      <td>...</td>\n",
       "    </tr>\n",
       "    <tr>\n",
       "      <th>5154466</th>\n",
       "      <td>138493</td>\n",
       "      <td>44022</td>\n",
       "    </tr>\n",
       "    <tr>\n",
       "      <th>5154467</th>\n",
       "      <td>138493</td>\n",
       "      <td>4958</td>\n",
       "    </tr>\n",
       "    <tr>\n",
       "      <th>5154468</th>\n",
       "      <td>138493</td>\n",
       "      <td>68319</td>\n",
       "    </tr>\n",
       "    <tr>\n",
       "      <th>5154469</th>\n",
       "      <td>138493</td>\n",
       "      <td>40819</td>\n",
       "    </tr>\n",
       "    <tr>\n",
       "      <th>5154470</th>\n",
       "      <td>138493</td>\n",
       "      <td>27311</td>\n",
       "    </tr>\n",
       "  </tbody>\n",
       "</table>\n",
       "<p>5154471 rows × 2 columns</p>\n",
       "</div>"
      ],
      "text/plain": [
       "           user   item\n",
       "0            11   4643\n",
       "1            11    170\n",
       "2            11    531\n",
       "3            11    616\n",
       "4            11   2140\n",
       "...         ...    ...\n",
       "5154466  138493  44022\n",
       "5154467  138493   4958\n",
       "5154468  138493  68319\n",
       "5154469  138493  40819\n",
       "5154470  138493  27311\n",
       "\n",
       "[5154471 rows x 2 columns]"
      ]
     },
     "execution_count": 6,
     "metadata": {},
     "output_type": "execute_result"
    }
   ],
   "source": [
    "df_user_movie = raw_data[['user', 'item']]\n",
    "df_user_movie"
   ]
  },
  {
   "cell_type": "code",
   "execution_count": 7,
   "metadata": {},
   "outputs": [],
   "source": [
    "def get_count(tp, id):\n",
    "    playcount_groupbyid = tp[[id]].groupby(id, as_index=False)\n",
    "    count = playcount_groupbyid.size()\n",
    "    return count\n",
    "\n",
    "def filter_triplets(tp, min_uc=5, min_sc=0):\n",
    "    if min_sc > 0:\n",
    "        itemcount = get_count(tp, 'item')\n",
    "        tp = tp[tp['item'].isin(itemcount[itemcount['size'] >= min_sc]['item'])]\n",
    "\n",
    "    if min_uc > 0:\n",
    "        usercount = get_count(tp, 'user')\n",
    "        tp = tp[tp['user'].isin(usercount[usercount['size'] >= min_uc]['user'])]\n",
    "\n",
    "    usercount, itemcount = get_count(tp, 'user'), get_count(tp, 'item')\n",
    "    return tp, usercount, itemcount\n",
    "\n",
    "def split_train_test_proportion(data, test_prop=0.2):\n",
    "    data_grouped_by_user = data.groupby('user')\n",
    "    tr_list, te_list = list(), list()\n",
    "\n",
    "    for _, group in data_grouped_by_user:\n",
    "        n_items_u = len(group)\n",
    "\n",
    "        if n_items_u >= 5:\n",
    "            idx = np.zeros(n_items_u, dtype='bool')\n",
    "            idx[np.random.choice(n_items_u, size=int(test_prop * n_items_u), replace=False).astype('int64')] = True\n",
    "\n",
    "            tr_list.append(group[np.logical_not(idx)])\n",
    "            te_list.append(group[idx])\n",
    "\n",
    "        else:\n",
    "            tr_list.append(group)\n",
    "\n",
    "    data_tr = pd.concat(tr_list)\n",
    "    data_te = pd.concat(te_list)\n",
    "\n",
    "    return data_tr, data_te\n",
    "\n",
    "def numerize(tp, user2id, item2id):\n",
    "    uid = tp['user'].apply(lambda x: user2id[x])\n",
    "    sid = tp['item'].apply(lambda x: item2id[x])\n",
    "    return pd.DataFrame(data={'uid': uid, 'sid': sid}, columns=['uid', 'sid'])\n",
    "\n",
    "def denumerize(tp, id2user, id2item):\n",
    "    user = tp['uid'].apply(lambda x: id2user[x])\n",
    "    item = tp['sid'].apply(lambda x: id2item[x])\n",
    "    return pd.DataFrame(data={'user': user, 'item': item}, columns=['user', 'item'])"
   ]
  },
  {
   "cell_type": "code",
   "execution_count": 8,
   "metadata": {},
   "outputs": [
    {
     "name": "stdout",
     "output_type": "stream",
     "text": [
      "유저별 리뷰수\n",
      "          user  size\n",
      "0          11   376\n",
      "1          14   180\n",
      "2          18    77\n",
      "3          25    91\n",
      "4          31   154\n",
      "...       ...   ...\n",
      "31355  138473    63\n",
      "31356  138475   124\n",
      "31357  138486   137\n",
      "31358  138492    68\n",
      "31359  138493   314\n",
      "\n",
      "[31360 rows x 2 columns]\n",
      "아이템별 리뷰수\n",
      "         item   size\n",
      "0          1  12217\n",
      "1          2   3364\n",
      "2          3    734\n",
      "3          4     43\n",
      "4          5    590\n",
      "...      ...    ...\n",
      "6802  118700     54\n",
      "6803  118900     60\n",
      "6804  118997     52\n",
      "6805  119141    122\n",
      "6806  119145     78\n",
      "\n",
      "[6807 rows x 2 columns]\n"
     ]
    }
   ],
   "source": [
    "raw_data, user_activity, item_popularity = filter_triplets(raw_data, min_uc=5, min_sc=10)\n",
    "\n",
    "print(\"유저별 리뷰수\\n\",user_activity)\n",
    "print(\"아이템별 리뷰수\\n\",item_popularity)"
   ]
  },
  {
   "cell_type": "code",
   "execution_count": 9,
   "metadata": {},
   "outputs": [
    {
     "name": "stdout",
     "output_type": "stream",
     "text": [
      "(BEFORE) unique_uid: [    11     14     18 ... 138486 138492 138493]\n",
      "(AFTER) unique_uid: [ 81259  11986  67552 ...   3671  69383 103755]\n"
     ]
    }
   ],
   "source": [
    "# Shuffle User Indices\n",
    "unique_uid = user_activity['user'].unique()\n",
    "unique_sid = item_popularity['item'].unique()\n",
    "print(\"(BEFORE) unique_uid:\",unique_uid)\n",
    "\n",
    "np.random.seed(cfg['seed'])\n",
    "idx_perm = np.random.permutation(unique_uid.size)\n",
    "unique_uid = unique_uid[idx_perm]\n",
    "print(\"(AFTER) unique_uid:\",unique_uid)\n",
    "\n",
    "n_users = unique_uid.size #31360\n",
    "n_items = unique_sid.size #5000\n"
   ]
  },
  {
   "cell_type": "code",
   "execution_count": 10,
   "metadata": {},
   "outputs": [
    {
     "data": {
      "text/html": [
       "<div>\n",
       "<style scoped>\n",
       "    .dataframe tbody tr th:only-of-type {\n",
       "        vertical-align: middle;\n",
       "    }\n",
       "\n",
       "    .dataframe tbody tr th {\n",
       "        vertical-align: top;\n",
       "    }\n",
       "\n",
       "    .dataframe thead th {\n",
       "        text-align: right;\n",
       "    }\n",
       "</style>\n",
       "<table border=\"1\" class=\"dataframe\">\n",
       "  <thead>\n",
       "    <tr style=\"text-align: right;\">\n",
       "      <th></th>\n",
       "      <th>user</th>\n",
       "      <th>item</th>\n",
       "    </tr>\n",
       "  </thead>\n",
       "  <tbody>\n",
       "    <tr>\n",
       "      <th>0</th>\n",
       "      <td>11</td>\n",
       "      <td>4643</td>\n",
       "    </tr>\n",
       "    <tr>\n",
       "      <th>1</th>\n",
       "      <td>11</td>\n",
       "      <td>170</td>\n",
       "    </tr>\n",
       "    <tr>\n",
       "      <th>2</th>\n",
       "      <td>11</td>\n",
       "      <td>531</td>\n",
       "    </tr>\n",
       "    <tr>\n",
       "      <th>3</th>\n",
       "      <td>11</td>\n",
       "      <td>616</td>\n",
       "    </tr>\n",
       "    <tr>\n",
       "      <th>4</th>\n",
       "      <td>11</td>\n",
       "      <td>2140</td>\n",
       "    </tr>\n",
       "    <tr>\n",
       "      <th>...</th>\n",
       "      <td>...</td>\n",
       "      <td>...</td>\n",
       "    </tr>\n",
       "    <tr>\n",
       "      <th>5154466</th>\n",
       "      <td>138493</td>\n",
       "      <td>44022</td>\n",
       "    </tr>\n",
       "    <tr>\n",
       "      <th>5154467</th>\n",
       "      <td>138493</td>\n",
       "      <td>4958</td>\n",
       "    </tr>\n",
       "    <tr>\n",
       "      <th>5154468</th>\n",
       "      <td>138493</td>\n",
       "      <td>68319</td>\n",
       "    </tr>\n",
       "    <tr>\n",
       "      <th>5154469</th>\n",
       "      <td>138493</td>\n",
       "      <td>40819</td>\n",
       "    </tr>\n",
       "    <tr>\n",
       "      <th>5154470</th>\n",
       "      <td>138493</td>\n",
       "      <td>27311</td>\n",
       "    </tr>\n",
       "  </tbody>\n",
       "</table>\n",
       "<p>5154471 rows × 2 columns</p>\n",
       "</div>"
      ],
      "text/plain": [
       "           user   item\n",
       "0            11   4643\n",
       "1            11    170\n",
       "2            11    531\n",
       "3            11    616\n",
       "4            11   2140\n",
       "...         ...    ...\n",
       "5154466  138493  44022\n",
       "5154467  138493   4958\n",
       "5154468  138493  68319\n",
       "5154469  138493  40819\n",
       "5154470  138493  27311\n",
       "\n",
       "[5154471 rows x 2 columns]"
      ]
     },
     "execution_count": 10,
     "metadata": {},
     "output_type": "execute_result"
    }
   ],
   "source": [
    "raw_data"
   ]
  },
  {
   "cell_type": "code",
   "execution_count": 11,
   "metadata": {},
   "outputs": [],
   "source": [
    "unique_item = raw_data['item'].unique()\n"
   ]
  },
  {
   "cell_type": "code",
   "execution_count": 12,
   "metadata": {},
   "outputs": [],
   "source": [
    "item2id = dict((sid, i) for (i, sid) in enumerate(unique_sid))\n",
    "user2id = dict((pid, i) for (i, pid) in enumerate(unique_uid))\n",
    "\n",
    "pro_dir = os.path.join('pro_sg')\n",
    "\n",
    "if not os.path.exists(pro_dir):\n",
    "    os.makedirs(pro_dir)\n",
    "\n",
    "with open(os.path.join(pro_dir, 'unique_sid.txt'), 'w') as f:\n",
    "    for sid in unique_sid:\n",
    "        f.write('%s\\n' % sid)\n",
    "\n",
    "with open(os.path.join(pro_dir, 'unique_uid.txt'), 'w') as f:\n",
    "    for uid in unique_uid:\n",
    "        f.write('%s\\n' % uid)\n",
    "\n"
   ]
  },
  {
   "cell_type": "code",
   "execution_count": 13,
   "metadata": {},
   "outputs": [],
   "source": [
    "num_heldout_users = cfg['FOLD_SIZE']"
   ]
  },
  {
   "cell_type": "code",
   "execution_count": 14,
   "metadata": {},
   "outputs": [
    {
     "data": {
      "text/html": [
       "<div>\n",
       "<style scoped>\n",
       "    .dataframe tbody tr th:only-of-type {\n",
       "        vertical-align: middle;\n",
       "    }\n",
       "\n",
       "    .dataframe tbody tr th {\n",
       "        vertical-align: top;\n",
       "    }\n",
       "\n",
       "    .dataframe thead th {\n",
       "        text-align: right;\n",
       "    }\n",
       "</style>\n",
       "<table border=\"1\" class=\"dataframe\">\n",
       "  <thead>\n",
       "    <tr style=\"text-align: right;\">\n",
       "      <th></th>\n",
       "      <th>uid</th>\n",
       "      <th>sid</th>\n",
       "    </tr>\n",
       "  </thead>\n",
       "  <tbody>\n",
       "    <tr>\n",
       "      <th>0</th>\n",
       "      <td>13266</td>\n",
       "      <td>2505</td>\n",
       "    </tr>\n",
       "    <tr>\n",
       "      <th>1</th>\n",
       "      <td>13266</td>\n",
       "      <td>109</td>\n",
       "    </tr>\n",
       "    <tr>\n",
       "      <th>2</th>\n",
       "      <td>13266</td>\n",
       "      <td>319</td>\n",
       "    </tr>\n",
       "    <tr>\n",
       "      <th>3</th>\n",
       "      <td>13266</td>\n",
       "      <td>368</td>\n",
       "    </tr>\n",
       "    <tr>\n",
       "      <th>4</th>\n",
       "      <td>13266</td>\n",
       "      <td>1183</td>\n",
       "    </tr>\n",
       "    <tr>\n",
       "      <th>...</th>\n",
       "      <td>...</td>\n",
       "      <td>...</td>\n",
       "    </tr>\n",
       "    <tr>\n",
       "      <th>5154466</th>\n",
       "      <td>4927</td>\n",
       "      <td>4882</td>\n",
       "    </tr>\n",
       "    <tr>\n",
       "      <th>5154467</th>\n",
       "      <td>4927</td>\n",
       "      <td>2652</td>\n",
       "    </tr>\n",
       "    <tr>\n",
       "      <th>5154468</th>\n",
       "      <td>4927</td>\n",
       "      <td>5768</td>\n",
       "    </tr>\n",
       "    <tr>\n",
       "      <th>5154469</th>\n",
       "      <td>4927</td>\n",
       "      <td>4791</td>\n",
       "    </tr>\n",
       "    <tr>\n",
       "      <th>5154470</th>\n",
       "      <td>4927</td>\n",
       "      <td>4363</td>\n",
       "    </tr>\n",
       "  </tbody>\n",
       "</table>\n",
       "<p>5154471 rows × 2 columns</p>\n",
       "</div>"
      ],
      "text/plain": [
       "           uid   sid\n",
       "0        13266  2505\n",
       "1        13266   109\n",
       "2        13266   319\n",
       "3        13266   368\n",
       "4        13266  1183\n",
       "...        ...   ...\n",
       "5154466   4927  4882\n",
       "5154467   4927  2652\n",
       "5154468   4927  5768\n",
       "5154469   4927  4791\n",
       "5154470   4927  4363\n",
       "\n",
       "[5154471 rows x 2 columns]"
      ]
     },
     "execution_count": 14,
     "metadata": {},
     "output_type": "execute_result"
    }
   ],
   "source": [
    "df_for_ease = numerize(raw_data, user2id, item2id)\n",
    "df_for_ease"
   ]
  },
  {
   "cell_type": "code",
   "execution_count": 15,
   "metadata": {},
   "outputs": [
    {
     "data": {
      "text/html": [
       "<div>\n",
       "<style scoped>\n",
       "    .dataframe tbody tr th:only-of-type {\n",
       "        vertical-align: middle;\n",
       "    }\n",
       "\n",
       "    .dataframe tbody tr th {\n",
       "        vertical-align: top;\n",
       "    }\n",
       "\n",
       "    .dataframe thead th {\n",
       "        text-align: right;\n",
       "    }\n",
       "</style>\n",
       "<table border=\"1\" class=\"dataframe\">\n",
       "  <thead>\n",
       "    <tr style=\"text-align: right;\">\n",
       "      <th></th>\n",
       "      <th>uid</th>\n",
       "      <th>sid</th>\n",
       "      <th>watched</th>\n",
       "    </tr>\n",
       "  </thead>\n",
       "  <tbody>\n",
       "    <tr>\n",
       "      <th>0</th>\n",
       "      <td>13266</td>\n",
       "      <td>2505</td>\n",
       "      <td>1</td>\n",
       "    </tr>\n",
       "    <tr>\n",
       "      <th>1</th>\n",
       "      <td>13266</td>\n",
       "      <td>109</td>\n",
       "      <td>1</td>\n",
       "    </tr>\n",
       "    <tr>\n",
       "      <th>2</th>\n",
       "      <td>13266</td>\n",
       "      <td>319</td>\n",
       "      <td>1</td>\n",
       "    </tr>\n",
       "    <tr>\n",
       "      <th>3</th>\n",
       "      <td>13266</td>\n",
       "      <td>368</td>\n",
       "      <td>1</td>\n",
       "    </tr>\n",
       "    <tr>\n",
       "      <th>4</th>\n",
       "      <td>13266</td>\n",
       "      <td>1183</td>\n",
       "      <td>1</td>\n",
       "    </tr>\n",
       "    <tr>\n",
       "      <th>...</th>\n",
       "      <td>...</td>\n",
       "      <td>...</td>\n",
       "      <td>...</td>\n",
       "    </tr>\n",
       "    <tr>\n",
       "      <th>5154466</th>\n",
       "      <td>4927</td>\n",
       "      <td>4882</td>\n",
       "      <td>1</td>\n",
       "    </tr>\n",
       "    <tr>\n",
       "      <th>5154467</th>\n",
       "      <td>4927</td>\n",
       "      <td>2652</td>\n",
       "      <td>1</td>\n",
       "    </tr>\n",
       "    <tr>\n",
       "      <th>5154468</th>\n",
       "      <td>4927</td>\n",
       "      <td>5768</td>\n",
       "      <td>1</td>\n",
       "    </tr>\n",
       "    <tr>\n",
       "      <th>5154469</th>\n",
       "      <td>4927</td>\n",
       "      <td>4791</td>\n",
       "      <td>1</td>\n",
       "    </tr>\n",
       "    <tr>\n",
       "      <th>5154470</th>\n",
       "      <td>4927</td>\n",
       "      <td>4363</td>\n",
       "      <td>1</td>\n",
       "    </tr>\n",
       "  </tbody>\n",
       "</table>\n",
       "<p>5154471 rows × 3 columns</p>\n",
       "</div>"
      ],
      "text/plain": [
       "           uid   sid  watched\n",
       "0        13266  2505        1\n",
       "1        13266   109        1\n",
       "2        13266   319        1\n",
       "3        13266   368        1\n",
       "4        13266  1183        1\n",
       "...        ...   ...      ...\n",
       "5154466   4927  4882        1\n",
       "5154467   4927  2652        1\n",
       "5154468   4927  5768        1\n",
       "5154469   4927  4791        1\n",
       "5154470   4927  4363        1\n",
       "\n",
       "[5154471 rows x 3 columns]"
      ]
     },
     "execution_count": 15,
     "metadata": {},
     "output_type": "execute_result"
    }
   ],
   "source": [
    "df_for_ease['watched'] = [1] * len(df_for_ease)\n",
    "df_for_ease"
   ]
  },
  {
   "cell_type": "code",
   "execution_count": 16,
   "metadata": {},
   "outputs": [],
   "source": [
    "pivot_table = df_for_ease.pivot_table(index=[\"uid\"], columns=[\"sid\"], values=\"watched\")\n",
    "X = pivot_table.to_numpy()\n",
    "X = np.nan_to_num(X)"
   ]
  },
  {
   "cell_type": "code",
   "execution_count": 17,
   "metadata": {},
   "outputs": [
    {
     "data": {
      "text/plain": [
       "array([[0., 0., 0., ..., 0., 0., 0.],\n",
       "       [0., 1., 0., ..., 0., 0., 0.],\n",
       "       [1., 1., 0., ..., 0., 0., 0.],\n",
       "       ...,\n",
       "       [1., 0., 0., ..., 0., 0., 0.],\n",
       "       [0., 0., 0., ..., 0., 0., 0.],\n",
       "       [0., 0., 0., ..., 0., 0., 0.]])"
      ]
     },
     "execution_count": 17,
     "metadata": {},
     "output_type": "execute_result"
    }
   ],
   "source": [
    "X"
   ]
  },
  {
   "cell_type": "code",
   "execution_count": 34,
   "metadata": {},
   "outputs": [],
   "source": [
    "from copy import deepcopy\n",
    "from tqdm import tqdm"
   ]
  },
  {
   "cell_type": "code",
   "execution_count": 35,
   "metadata": {},
   "outputs": [],
   "source": [
    "class EASER():\n",
    "    def __init__(self, threshold = 3500, lambdaBB = 500, lambdaCC = 10000, rho = 50000, epochs = 40):\n",
    "        self.threshold = threshold\n",
    "        self.lambdaBB = lambdaBB\n",
    "        self.lambdaCC = lambdaCC\n",
    "        self.rho = rho\n",
    "        self.epochs = epochs\n",
    "\n",
    "    def create_list_feature_pairs(self, XtX):\n",
    "        AA = np.triu(np.abs(XtX))\n",
    "        AA[ np.diag_indices(AA.shape[0]) ]=0.0\n",
    "        ii_pairs = np.where((AA > self.threshold) == True)\n",
    "        return ii_pairs\n",
    "\n",
    "    def create_matrix_Z(self, ii_pairs, X):\n",
    "        MM = np.zeros( (len(ii_pairs[0]), X.shape[1]),    dtype=np.float64)\n",
    "        MM[np.arange(MM.shape[0]) , ii_pairs[0]   ]=1.0\n",
    "        MM[np.arange(MM.shape[0]) , ii_pairs[1]   ]=1.0\n",
    "        CCmask = 1.0-MM\n",
    "        MM = sparse.csc_matrix(MM.T)\n",
    "        Z=  X * MM\n",
    "        Z= (Z == 2.0 )\n",
    "        Z=Z*1.0\n",
    "        return Z, CCmask\n",
    "\n",
    "    def train_higher(self, XtX, XtXdiag, ZtZ, ZtZdiag, CCmask, ZtX):\n",
    "        ii_diag=np.diag_indices(XtX.shape[0])\n",
    "        XtX[ii_diag] = XtXdiag + self.lambdaBB\n",
    "        PP = np.linalg.inv(XtX)\n",
    "        ii_diag_ZZ=np.diag_indices(ZtZ.shape[0])\n",
    "        ZtZ[ii_diag_ZZ] = ZtZdiag + self.lambdaCC + self.rho\n",
    "        QQ=np.linalg.inv(ZtZ)\n",
    "        CC = np.zeros( (ZtZ.shape[0], XtX.shape[0]),dtype=np.float64 )\n",
    "        DD = np.zeros( (ZtZ.shape[0], XtX.shape[0]),dtype=np.float64 )\n",
    "        UU = np.zeros( (ZtZ.shape[0], XtX.shape[0]),dtype=np.float64 )\n",
    "\n",
    "        for iter in tqdm(range(self.epochs)):\n",
    "            # learn BB\n",
    "            XtX[ii_diag] = XtXdiag\n",
    "            BB= PP.dot(XtX-ZtX.T.dot(CC))\n",
    "            gamma = np.diag(BB) / np.diag(PP)\n",
    "            BB-= PP * gamma\n",
    "            # learn CC\n",
    "            CC= QQ.dot(ZtX-ZtX.dot(BB) + self.rho * (DD-UU))\n",
    "            # learn DD\n",
    "            DD=  CC  * CCmask\n",
    "            #DD= np.maximum(0.0, DD) # if you want to enforce non-negative parameters\n",
    "            # learn UU (is Gamma in paper)\n",
    "            UU+= CC-DD\n",
    "\n",
    "        return BB, DD\n",
    "\n",
    "    def fit(self, X):\n",
    "        print(' --- init')\n",
    "        XtX = (X.T @ X)\n",
    "        XtXdiag = deepcopy(np.diag(XtX))\n",
    "        ii_pairs = self.create_list_feature_pairs(XtX)\n",
    "        Z, CCmask = self.create_matrix_Z(ii_pairs, X)\n",
    "\n",
    "        ZtZ = (Z.transpose() @ Z)\n",
    "        ZtZdiag = deepcopy(np.diag(ZtZ))\n",
    "\n",
    "        ZtX = (Z.transpose() @ X)\n",
    "\n",
    "        print(' --- iteration start.')\n",
    "        BB, CC = self.train_higher(XtX, XtXdiag, ZtZ, ZtZdiag, CCmask, ZtX)\n",
    "        print(' --- iteration end.')\n",
    "\n",
    "        self.pred = torch.from_numpy(X.dot(BB) + Z.dot(CC))"
   ]
  },
  {
   "cell_type": "code",
   "execution_count": 36,
   "metadata": {},
   "outputs": [
    {
     "name": "stdout",
     "output_type": "stream",
     "text": [
      " --- init\n",
      " --- iteration start.\n"
     ]
    },
    {
     "name": "stderr",
     "output_type": "stream",
     "text": [
      "100%|██████████| 40/40 [13:29<00:00, 20.23s/it]\n"
     ]
    },
    {
     "name": "stdout",
     "output_type": "stream",
     "text": [
      " --- iteration end.\n"
     ]
    }
   ],
   "source": [
    "easer = EASER()\n",
    "easer.fit(X)"
   ]
  },
  {
   "cell_type": "code",
   "execution_count": 42,
   "metadata": {},
   "outputs": [],
   "source": [
    "X_pred = easer.pred.numpy()"
   ]
  },
  {
   "cell_type": "code",
   "execution_count": 43,
   "metadata": {},
   "outputs": [
    {
     "data": {
      "text/plain": [
       "array([[ 1.54421716e-01,  5.91912625e-02,  2.07301154e-02, ...,\n",
       "         1.04652035e-02, -8.30006771e-04, -1.24459579e-02],\n",
       "       [ 4.99935844e-01,  3.09546568e-01,  1.14500023e-01, ...,\n",
       "         2.83030480e-03, -1.06144294e-02,  1.21164947e-02],\n",
       "       [ 6.40607516e-01,  3.05062113e-01,  5.66899892e-03, ...,\n",
       "        -5.99358232e-03, -1.08049459e-02,  3.70181809e-03],\n",
       "       ...,\n",
       "       [ 9.46996138e-01,  1.81685244e-01,  1.11324227e-01, ...,\n",
       "         1.39981929e-02, -2.70518413e-02,  1.68039900e-02],\n",
       "       [ 1.50066500e-01,  6.59546285e-02,  7.39451284e-03, ...,\n",
       "        -2.08051370e-03, -3.67058869e-03,  5.11150823e-04],\n",
       "       [ 3.38351033e-01,  2.38472199e-01, -2.66798391e-02, ...,\n",
       "        -4.88278140e-03, -8.84184706e-03, -1.21180404e-02]])"
      ]
     },
     "execution_count": 43,
     "metadata": {},
     "output_type": "execute_result"
    }
   ],
   "source": [
    "X_pred"
   ]
  },
  {
   "cell_type": "code",
   "execution_count": 44,
   "metadata": {},
   "outputs": [],
   "source": [
    "X_pred[X.nonzero()] = -np.inf"
   ]
  },
  {
   "cell_type": "code",
   "execution_count": null,
   "metadata": {},
   "outputs": [
    {
     "name": "stdout",
     "output_type": "stream",
     "text": [
      "[[ 1.83566345e+00  6.25712395e-02  2.33214792e-02 ...  8.58501692e-03\n",
      "  -3.66008969e-04 -1.65193833e-02]\n",
      " [ 2.22127863e+00  1.45964979e-01  1.37979592e-01 ...  4.32863994e-03\n",
      "  -1.74153992e-02 -2.55486916e-03]\n",
      " [-1.64288337e+00  1.75651106e-01 -1.22299960e-02 ... -7.69506705e-03\n",
      "  -1.44144038e-02 -3.01526096e-03]\n",
      " ...\n",
      " [ 1.32627349e-01  9.14687324e-02  1.45398930e-01 ...  9.30167743e-03\n",
      "  -1.87203732e-02  1.89461318e-02]\n",
      " [-3.44706299e-03  9.12737008e-02 -7.56348240e-03 ... -5.11154187e-03\n",
      "   1.00204462e-03 -4.58949981e-03]\n",
      " [-1.12498007e+00  7.78999262e-02 -2.95719179e-02 ... -4.35460561e-03\n",
      "   4.15031578e-03 -9.43776163e-03]]\n"
     ]
    }
   ],
   "source": [
    "result = easer.forward(X[:, :])\n",
    "print(result)"
   ]
  },
  {
   "cell_type": "code",
   "execution_count": null,
   "metadata": {},
   "outputs": [
    {
     "name": "stdout",
     "output_type": "stream",
     "text": [
      "(array([    0,     0,     0, ..., 31359, 31359, 31359]), array([ 136,  153,  380, ..., 5771, 5855, 6084]))\n"
     ]
    }
   ],
   "source": [
    "print(X.nonzero())\n"
   ]
  },
  {
   "cell_type": "code",
   "execution_count": null,
   "metadata": {},
   "outputs": [
    {
     "name": "stdout",
     "output_type": "stream",
     "text": [
      "[[ 1.83566345e+00  6.25712395e-02  2.33214792e-02 ...  8.58501692e-03\n",
      "  -3.66008969e-04 -1.65193833e-02]\n",
      " [ 2.22127863e+00            -inf  1.37979592e-01 ...  4.32863994e-03\n",
      "  -1.74153992e-02 -2.55486916e-03]\n",
      " [           -inf            -inf -1.22299960e-02 ... -7.69506705e-03\n",
      "  -1.44144038e-02 -3.01526096e-03]\n",
      " ...\n",
      " [           -inf  9.14687324e-02  1.45398930e-01 ...  9.30167743e-03\n",
      "  -1.87203732e-02  1.89461318e-02]\n",
      " [-3.44706299e-03  9.12737008e-02 -7.56348240e-03 ... -5.11154187e-03\n",
      "   1.00204462e-03 -4.58949981e-03]\n",
      " [-1.12498007e+00  7.78999262e-02 -2.95719179e-02 ... -4.35460561e-03\n",
      "   4.15031578e-03 -9.43776163e-03]]\n"
     ]
    }
   ],
   "source": [
    "result[X.nonzero()] = -np.inf\n",
    "print(result)"
   ]
  },
  {
   "cell_type": "code",
   "execution_count": 45,
   "metadata": {},
   "outputs": [
    {
     "data": {
      "text/plain": [
       "array([[ 0.15442172,  0.05919126,  0.02073012, ...,  0.0104652 ,\n",
       "        -0.00083001, -0.01244596],\n",
       "       [ 0.49993584,        -inf,  0.11450002, ...,  0.0028303 ,\n",
       "        -0.01061443,  0.01211649],\n",
       "       [       -inf,        -inf,  0.005669  , ..., -0.00599358,\n",
       "        -0.01080495,  0.00370182],\n",
       "       ...,\n",
       "       [       -inf,  0.18168524,  0.11132423, ...,  0.01399819,\n",
       "        -0.02705184,  0.01680399],\n",
       "       [ 0.1500665 ,  0.06595463,  0.00739451, ..., -0.00208051,\n",
       "        -0.00367059,  0.00051115],\n",
       "       [ 0.33835103,  0.2384722 , -0.02667984, ..., -0.00488278,\n",
       "        -0.00884185, -0.01211804]])"
      ]
     },
     "execution_count": 45,
     "metadata": {},
     "output_type": "execute_result"
    }
   ],
   "source": [
    "X_pred"
   ]
  },
  {
   "cell_type": "code",
   "execution_count": 46,
   "metadata": {},
   "outputs": [],
   "source": [
    "import bottleneck as bn"
   ]
  },
  {
   "cell_type": "code",
   "execution_count": 47,
   "metadata": {},
   "outputs": [
    {
     "name": "stdout",
     "output_type": "stream",
     "text": [
      "[[4065 5147 4101 ... 5514 4610 4735]\n",
      " [ 931 2653  650 ...  604 4101  226]\n",
      " [2672  406  894 ... 1161  105    9]\n",
      " ...\n",
      " [  41 4621  146 ... 1494 1435 2619]\n",
      " [1400  890  178 ...  657 2304 2670]\n",
      " [ 237 3420  328 ...  492 3240 1949]]\n"
     ]
    }
   ],
   "source": [
    "top_items_by_user = bn.argpartition(-X_pred, 10, axis=1)[:, :10]\n",
    "print(top_items_by_user)"
   ]
  },
  {
   "cell_type": "code",
   "execution_count": 48,
   "metadata": {},
   "outputs": [],
   "source": [
    "user_result = []\n",
    "item_result =[]\n",
    "\n",
    "for id, top_k in enumerate(top_items_by_user):\n",
    "    user_result.extend([id] * 10)\n",
    "    item_result.extend(top_k)\n",
    "\n",
    "df_user_result = pd.DataFrame(user_result, columns=['uid'])\n",
    "df_item_result = pd.DataFrame(item_result, columns=['sid'])\n",
    "df_result = pd.concat([df_user_result, df_item_result], axis=1)"
   ]
  },
  {
   "cell_type": "code",
   "execution_count": 49,
   "metadata": {},
   "outputs": [
    {
     "data": {
      "text/html": [
       "<div>\n",
       "<style scoped>\n",
       "    .dataframe tbody tr th:only-of-type {\n",
       "        vertical-align: middle;\n",
       "    }\n",
       "\n",
       "    .dataframe tbody tr th {\n",
       "        vertical-align: top;\n",
       "    }\n",
       "\n",
       "    .dataframe thead th {\n",
       "        text-align: right;\n",
       "    }\n",
       "</style>\n",
       "<table border=\"1\" class=\"dataframe\">\n",
       "  <thead>\n",
       "    <tr style=\"text-align: right;\">\n",
       "      <th></th>\n",
       "      <th>uid</th>\n",
       "      <th>sid</th>\n",
       "    </tr>\n",
       "  </thead>\n",
       "  <tbody>\n",
       "    <tr>\n",
       "      <th>0</th>\n",
       "      <td>0</td>\n",
       "      <td>4065</td>\n",
       "    </tr>\n",
       "    <tr>\n",
       "      <th>1</th>\n",
       "      <td>0</td>\n",
       "      <td>5147</td>\n",
       "    </tr>\n",
       "    <tr>\n",
       "      <th>2</th>\n",
       "      <td>0</td>\n",
       "      <td>4101</td>\n",
       "    </tr>\n",
       "    <tr>\n",
       "      <th>3</th>\n",
       "      <td>0</td>\n",
       "      <td>5936</td>\n",
       "    </tr>\n",
       "    <tr>\n",
       "      <th>4</th>\n",
       "      <td>0</td>\n",
       "      <td>6173</td>\n",
       "    </tr>\n",
       "    <tr>\n",
       "      <th>...</th>\n",
       "      <td>...</td>\n",
       "      <td>...</td>\n",
       "    </tr>\n",
       "    <tr>\n",
       "      <th>313595</th>\n",
       "      <td>31359</td>\n",
       "      <td>4000</td>\n",
       "    </tr>\n",
       "    <tr>\n",
       "      <th>313596</th>\n",
       "      <td>31359</td>\n",
       "      <td>3994</td>\n",
       "    </tr>\n",
       "    <tr>\n",
       "      <th>313597</th>\n",
       "      <td>31359</td>\n",
       "      <td>492</td>\n",
       "    </tr>\n",
       "    <tr>\n",
       "      <th>313598</th>\n",
       "      <td>31359</td>\n",
       "      <td>3240</td>\n",
       "    </tr>\n",
       "    <tr>\n",
       "      <th>313599</th>\n",
       "      <td>31359</td>\n",
       "      <td>1949</td>\n",
       "    </tr>\n",
       "  </tbody>\n",
       "</table>\n",
       "<p>313600 rows × 2 columns</p>\n",
       "</div>"
      ],
      "text/plain": [
       "          uid   sid\n",
       "0           0  4065\n",
       "1           0  5147\n",
       "2           0  4101\n",
       "3           0  5936\n",
       "4           0  6173\n",
       "...       ...   ...\n",
       "313595  31359  4000\n",
       "313596  31359  3994\n",
       "313597  31359   492\n",
       "313598  31359  3240\n",
       "313599  31359  1949\n",
       "\n",
       "[313600 rows x 2 columns]"
      ]
     },
     "execution_count": 49,
     "metadata": {},
     "output_type": "execute_result"
    }
   ],
   "source": [
    "df_result"
   ]
  },
  {
   "cell_type": "code",
   "execution_count": 50,
   "metadata": {},
   "outputs": [],
   "source": [
    "id2item = dict((i, sid) for (i, sid) in enumerate(unique_sid.squeeze()))\n",
    "id2user = dict((i, pid) for (i, pid) in enumerate(unique_uid.squeeze()))\n"
   ]
  },
  {
   "cell_type": "code",
   "execution_count": 51,
   "metadata": {},
   "outputs": [
    {
     "data": {
      "text/html": [
       "<div>\n",
       "<style scoped>\n",
       "    .dataframe tbody tr th:only-of-type {\n",
       "        vertical-align: middle;\n",
       "    }\n",
       "\n",
       "    .dataframe tbody tr th {\n",
       "        vertical-align: top;\n",
       "    }\n",
       "\n",
       "    .dataframe thead th {\n",
       "        text-align: right;\n",
       "    }\n",
       "</style>\n",
       "<table border=\"1\" class=\"dataframe\">\n",
       "  <thead>\n",
       "    <tr style=\"text-align: right;\">\n",
       "      <th></th>\n",
       "      <th>user</th>\n",
       "      <th>item</th>\n",
       "    </tr>\n",
       "  </thead>\n",
       "  <tbody>\n",
       "    <tr>\n",
       "      <th>132668</th>\n",
       "      <td>11</td>\n",
       "      <td>2987</td>\n",
       "    </tr>\n",
       "    <tr>\n",
       "      <th>132669</th>\n",
       "      <td>11</td>\n",
       "      <td>4886</td>\n",
       "    </tr>\n",
       "    <tr>\n",
       "      <th>132667</th>\n",
       "      <td>11</td>\n",
       "      <td>3996</td>\n",
       "    </tr>\n",
       "    <tr>\n",
       "      <th>132666</th>\n",
       "      <td>11</td>\n",
       "      <td>4370</td>\n",
       "    </tr>\n",
       "    <tr>\n",
       "      <th>132665</th>\n",
       "      <td>11</td>\n",
       "      <td>47</td>\n",
       "    </tr>\n",
       "    <tr>\n",
       "      <th>...</th>\n",
       "      <td>...</td>\n",
       "      <td>...</td>\n",
       "    </tr>\n",
       "    <tr>\n",
       "      <th>49275</th>\n",
       "      <td>138493</td>\n",
       "      <td>53125</td>\n",
       "    </tr>\n",
       "    <tr>\n",
       "      <th>49276</th>\n",
       "      <td>138493</td>\n",
       "      <td>1270</td>\n",
       "    </tr>\n",
       "    <tr>\n",
       "      <th>49277</th>\n",
       "      <td>138493</td>\n",
       "      <td>4022</td>\n",
       "    </tr>\n",
       "    <tr>\n",
       "      <th>49279</th>\n",
       "      <td>138493</td>\n",
       "      <td>32587</td>\n",
       "    </tr>\n",
       "    <tr>\n",
       "      <th>49278</th>\n",
       "      <td>138493</td>\n",
       "      <td>8970</td>\n",
       "    </tr>\n",
       "  </tbody>\n",
       "</table>\n",
       "<p>313600 rows × 2 columns</p>\n",
       "</div>"
      ],
      "text/plain": [
       "          user   item\n",
       "132668      11   2987\n",
       "132669      11   4886\n",
       "132667      11   3996\n",
       "132666      11   4370\n",
       "132665      11     47\n",
       "...        ...    ...\n",
       "49275   138493  53125\n",
       "49276   138493   1270\n",
       "49277   138493   4022\n",
       "49279   138493  32587\n",
       "49278   138493   8970\n",
       "\n",
       "[313600 rows x 2 columns]"
      ]
     },
     "execution_count": 51,
     "metadata": {},
     "output_type": "execute_result"
    }
   ],
   "source": [
    "df_infer = denumerize(df_result, id2user, id2item)\n",
    "df_infer.columns = ['user', 'item']\n",
    "df_infer = df_infer.sort_values('user')\n",
    "df_infer"
   ]
  },
  {
   "cell_type": "code",
   "execution_count": null,
   "metadata": {},
   "outputs": [],
   "source": [
    "df_infer.to_csv(os.path.join('submission_EASER.csv'), index=False)\n"
   ]
  },
  {
   "cell_type": "code",
   "execution_count": null,
   "metadata": {},
   "outputs": [],
   "source": []
  }
 ],
 "metadata": {
  "kernelspec": {
   "display_name": ".venv",
   "language": "python",
   "name": "python3"
  },
  "language_info": {
   "codemirror_mode": {
    "name": "ipython",
    "version": 3
   },
   "file_extension": ".py",
   "mimetype": "text/x-python",
   "name": "python",
   "nbconvert_exporter": "python",
   "pygments_lexer": "ipython3",
   "version": "3.9.18"
  }
 },
 "nbformat": 4,
 "nbformat_minor": 2
}
