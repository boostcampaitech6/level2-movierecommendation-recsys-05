{
 "cells": [
  {
   "cell_type": "code",
   "execution_count": 5,
   "metadata": {},
   "outputs": [
    {
     "data": {
      "text/html": [
       "<div>\n",
       "<style scoped>\n",
       "    .dataframe tbody tr th:only-of-type {\n",
       "        vertical-align: middle;\n",
       "    }\n",
       "\n",
       "    .dataframe tbody tr th {\n",
       "        vertical-align: top;\n",
       "    }\n",
       "\n",
       "    .dataframe thead th {\n",
       "        text-align: right;\n",
       "    }\n",
       "</style>\n",
       "<table border=\"1\" class=\"dataframe\">\n",
       "  <thead>\n",
       "    <tr style=\"text-align: right;\">\n",
       "      <th></th>\n",
       "      <th>user</th>\n",
       "      <th>item</th>\n",
       "      <th>time</th>\n",
       "    </tr>\n",
       "  </thead>\n",
       "  <tbody>\n",
       "    <tr>\n",
       "      <th>861501</th>\n",
       "      <td>22917</td>\n",
       "      <td>99114</td>\n",
       "      <td>1393185255</td>\n",
       "    </tr>\n",
       "    <tr>\n",
       "      <th>4270240</th>\n",
       "      <td>114268</td>\n",
       "      <td>54503</td>\n",
       "      <td>1323469161</td>\n",
       "    </tr>\n",
       "    <tr>\n",
       "      <th>4228742</th>\n",
       "      <td>113209</td>\n",
       "      <td>61678</td>\n",
       "      <td>1379587094</td>\n",
       "    </tr>\n",
       "    <tr>\n",
       "      <th>2981244</th>\n",
       "      <td>79451</td>\n",
       "      <td>6016</td>\n",
       "      <td>1225088236</td>\n",
       "    </tr>\n",
       "    <tr>\n",
       "      <th>2671725</th>\n",
       "      <td>71326</td>\n",
       "      <td>858</td>\n",
       "      <td>1202925657</td>\n",
       "    </tr>\n",
       "  </tbody>\n",
       "</table>\n",
       "</div>"
      ],
      "text/plain": [
       "           user   item        time\n",
       "861501    22917  99114  1393185255\n",
       "4270240  114268  54503  1323469161\n",
       "4228742  113209  61678  1379587094\n",
       "2981244   79451   6016  1225088236\n",
       "2671725   71326    858  1202925657"
      ]
     },
     "execution_count": 5,
     "metadata": {},
     "output_type": "execute_result"
    }
   ],
   "source": [
    "import pandas as pd\n",
    "import os\n",
    "\n",
    "DATADIR = '../../../data/train'\n",
    "\n",
    "data = pd.read_csv(os.path.join(DATADIR, \"train_ratings.csv\"))\n",
    "data.sample(5)"
   ]
  },
  {
   "cell_type": "code",
   "execution_count": 6,
   "metadata": {},
   "outputs": [
    {
     "data": {
      "text/html": [
       "<div>\n",
       "<style scoped>\n",
       "    .dataframe tbody tr th:only-of-type {\n",
       "        vertical-align: middle;\n",
       "    }\n",
       "\n",
       "    .dataframe tbody tr th {\n",
       "        vertical-align: top;\n",
       "    }\n",
       "\n",
       "    .dataframe thead th {\n",
       "        text-align: right;\n",
       "    }\n",
       "</style>\n",
       "<table border=\"1\" class=\"dataframe\">\n",
       "  <thead>\n",
       "    <tr style=\"text-align: right;\">\n",
       "      <th></th>\n",
       "      <th>user</th>\n",
       "      <th>item</th>\n",
       "      <th>time</th>\n",
       "      <th>test_a</th>\n",
       "      <th>test_b</th>\n",
       "    </tr>\n",
       "  </thead>\n",
       "  <tbody>\n",
       "    <tr>\n",
       "      <th>926990</th>\n",
       "      <td>24557</td>\n",
       "      <td>1222</td>\n",
       "      <td>1422125154</td>\n",
       "      <td>a</td>\n",
       "      <td>1</td>\n",
       "    </tr>\n",
       "    <tr>\n",
       "      <th>3671253</th>\n",
       "      <td>97853</td>\n",
       "      <td>7216</td>\n",
       "      <td>1128572449</td>\n",
       "      <td>a</td>\n",
       "      <td>1</td>\n",
       "    </tr>\n",
       "    <tr>\n",
       "      <th>5111219</th>\n",
       "      <td>137328</td>\n",
       "      <td>56367</td>\n",
       "      <td>1225290412</td>\n",
       "      <td>a</td>\n",
       "      <td>1</td>\n",
       "    </tr>\n",
       "    <tr>\n",
       "      <th>198548</th>\n",
       "      <td>5005</td>\n",
       "      <td>1721</td>\n",
       "      <td>1267971888</td>\n",
       "      <td>a</td>\n",
       "      <td>1</td>\n",
       "    </tr>\n",
       "    <tr>\n",
       "      <th>599295</th>\n",
       "      <td>15952</td>\n",
       "      <td>106782</td>\n",
       "      <td>1396067716</td>\n",
       "      <td>a</td>\n",
       "      <td>1</td>\n",
       "    </tr>\n",
       "  </tbody>\n",
       "</table>\n",
       "</div>"
      ],
      "text/plain": [
       "           user    item        time test_a test_b\n",
       "926990    24557    1222  1422125154      a      1\n",
       "3671253   97853    7216  1128572449      a      1\n",
       "5111219  137328   56367  1225290412      a      1\n",
       "198548     5005    1721  1267971888      a      1\n",
       "599295    15952  106782  1396067716      a      1"
      ]
     },
     "execution_count": 6,
     "metadata": {},
     "output_type": "execute_result"
    }
   ],
   "source": [
    "data['test_a'] = \"a\"\n",
    "data['test_b'] = \"1\"\n",
    "data.sample(5)"
   ]
  },
  {
   "cell_type": "code",
   "execution_count": 7,
   "metadata": {},
   "outputs": [
    {
     "data": {
      "text/plain": [
       "0           i4643\n",
       "1            i170\n",
       "2            i531\n",
       "3            i616\n",
       "4           i2140\n",
       "            ...  \n",
       "5154466    i44022\n",
       "5154467     i4958\n",
       "5154468    i68319\n",
       "5154469    i40819\n",
       "5154470    i27311\n",
       "Name: item, Length: 5154471, dtype: object"
      ]
     },
     "execution_count": 7,
     "metadata": {},
     "output_type": "execute_result"
    }
   ],
   "source": [
    "data['user'].apply(lambda x: \"u\" + str(x)) \n",
    "data['item'].apply(lambda x: \"i\" + str(x)) "
   ]
  },
  {
   "cell_type": "code",
   "execution_count": 8,
   "metadata": {},
   "outputs": [
    {
     "data": {
      "text/plain": [
       "array([    11,     14,     18, ..., 138486, 138492, 138493])"
      ]
     },
     "execution_count": 8,
     "metadata": {},
     "output_type": "execute_result"
    }
   ],
   "source": [
    "ids = data['user'].unique()\n",
    "ids"
   ]
  },
  {
   "cell_type": "code",
   "execution_count": 9,
   "metadata": {},
   "outputs": [
    {
     "name": "stdout",
     "output_type": "stream",
     "text": [
      "선택된 인덱스: [25354  3140 30334 ... 30945   359  1685]\n"
     ]
    }
   ],
   "source": [
    "import numpy as np\n",
    "\n",
    "num_elements = len(ids)\n",
    "num_to_select = int(num_elements * 0.2)  # 20%\n",
    "\n",
    "# 무작위 인덱스 선택\n",
    "random_indices = np.random.choice(num_elements, size=num_to_select, replace=False)\n",
    "\n",
    "# 선택된 인덱스 출력\n",
    "print(\"선택된 인덱스:\", random_indices)"
   ]
  },
  {
   "cell_type": "code",
   "execution_count": 10,
   "metadata": {},
   "outputs": [
    {
     "data": {
      "text/plain": [
       "(6272, 6272)"
      ]
     },
     "execution_count": 10,
     "metadata": {},
     "output_type": "execute_result"
    }
   ],
   "source": [
    "len(ids[random_indices]), len(set(ids[random_indices]))"
   ]
  },
  {
   "cell_type": "code",
   "execution_count": 11,
   "metadata": {},
   "outputs": [],
   "source": [
    "all_indices = np.arange(num_elements)  # 전체 인덱스 배열 생성\n",
    "not_selected_indices = np.setdiff1d(all_indices, random_indices) "
   ]
  },
  {
   "cell_type": "code",
   "execution_count": 12,
   "metadata": {},
   "outputs": [
    {
     "data": {
      "text/plain": [
       "(6272, 25088)"
      ]
     },
     "execution_count": 12,
     "metadata": {},
     "output_type": "execute_result"
    }
   ],
   "source": [
    "len(ids[random_indices]), len(ids[not_selected_indices])"
   ]
  },
  {
   "cell_type": "code",
   "execution_count": 13,
   "metadata": {},
   "outputs": [],
   "source": [
    "select = data['user'].apply(lambda x: True if x in ids[random_indices] else False)"
   ]
  },
  {
   "cell_type": "code",
   "execution_count": 14,
   "metadata": {},
   "outputs": [
    {
     "data": {
      "text/html": [
       "<div>\n",
       "<style scoped>\n",
       "    .dataframe tbody tr th:only-of-type {\n",
       "        vertical-align: middle;\n",
       "    }\n",
       "\n",
       "    .dataframe tbody tr th {\n",
       "        vertical-align: top;\n",
       "    }\n",
       "\n",
       "    .dataframe thead th {\n",
       "        text-align: right;\n",
       "    }\n",
       "</style>\n",
       "<table border=\"1\" class=\"dataframe\">\n",
       "  <thead>\n",
       "    <tr style=\"text-align: right;\">\n",
       "      <th></th>\n",
       "      <th>user</th>\n",
       "      <th>item</th>\n",
       "      <th>time</th>\n",
       "      <th>test_a</th>\n",
       "      <th>test_b</th>\n",
       "    </tr>\n",
       "  </thead>\n",
       "  <tbody>\n",
       "    <tr>\n",
       "      <th>1109</th>\n",
       "      <td>50</td>\n",
       "      <td>7438</td>\n",
       "      <td>1181644394</td>\n",
       "      <td>a</td>\n",
       "      <td>1</td>\n",
       "    </tr>\n",
       "    <tr>\n",
       "      <th>1110</th>\n",
       "      <td>50</td>\n",
       "      <td>6711</td>\n",
       "      <td>1181644397</td>\n",
       "      <td>a</td>\n",
       "      <td>1</td>\n",
       "    </tr>\n",
       "    <tr>\n",
       "      <th>1111</th>\n",
       "      <td>50</td>\n",
       "      <td>372</td>\n",
       "      <td>1181644438</td>\n",
       "      <td>a</td>\n",
       "      <td>1</td>\n",
       "    </tr>\n",
       "    <tr>\n",
       "      <th>1112</th>\n",
       "      <td>50</td>\n",
       "      <td>2145</td>\n",
       "      <td>1181644500</td>\n",
       "      <td>a</td>\n",
       "      <td>1</td>\n",
       "    </tr>\n",
       "    <tr>\n",
       "      <th>1113</th>\n",
       "      <td>50</td>\n",
       "      <td>1635</td>\n",
       "      <td>1181644519</td>\n",
       "      <td>a</td>\n",
       "      <td>1</td>\n",
       "    </tr>\n",
       "    <tr>\n",
       "      <th>...</th>\n",
       "      <td>...</td>\n",
       "      <td>...</td>\n",
       "      <td>...</td>\n",
       "      <td>...</td>\n",
       "      <td>...</td>\n",
       "    </tr>\n",
       "    <tr>\n",
       "      <th>5153116</th>\n",
       "      <td>138457</td>\n",
       "      <td>5502</td>\n",
       "      <td>1264998367</td>\n",
       "      <td>a</td>\n",
       "      <td>1</td>\n",
       "    </tr>\n",
       "    <tr>\n",
       "      <th>5153117</th>\n",
       "      <td>138457</td>\n",
       "      <td>586</td>\n",
       "      <td>1264998371</td>\n",
       "      <td>a</td>\n",
       "      <td>1</td>\n",
       "    </tr>\n",
       "    <tr>\n",
       "      <th>5153118</th>\n",
       "      <td>138457</td>\n",
       "      <td>288</td>\n",
       "      <td>1264998388</td>\n",
       "      <td>a</td>\n",
       "      <td>1</td>\n",
       "    </tr>\n",
       "    <tr>\n",
       "      <th>5153119</th>\n",
       "      <td>138457</td>\n",
       "      <td>53996</td>\n",
       "      <td>1264998404</td>\n",
       "      <td>a</td>\n",
       "      <td>1</td>\n",
       "    </tr>\n",
       "    <tr>\n",
       "      <th>5153120</th>\n",
       "      <td>138457</td>\n",
       "      <td>1485</td>\n",
       "      <td>1264998407</td>\n",
       "      <td>a</td>\n",
       "      <td>1</td>\n",
       "    </tr>\n",
       "  </tbody>\n",
       "</table>\n",
       "<p>1031031 rows × 5 columns</p>\n",
       "</div>"
      ],
      "text/plain": [
       "           user   item        time test_a test_b\n",
       "1109         50   7438  1181644394      a      1\n",
       "1110         50   6711  1181644397      a      1\n",
       "1111         50    372  1181644438      a      1\n",
       "1112         50   2145  1181644500      a      1\n",
       "1113         50   1635  1181644519      a      1\n",
       "...         ...    ...         ...    ...    ...\n",
       "5153116  138457   5502  1264998367      a      1\n",
       "5153117  138457    586  1264998371      a      1\n",
       "5153118  138457    288  1264998388      a      1\n",
       "5153119  138457  53996  1264998404      a      1\n",
       "5153120  138457   1485  1264998407      a      1\n",
       "\n",
       "[1031031 rows x 5 columns]"
      ]
     },
     "execution_count": 14,
     "metadata": {},
     "output_type": "execute_result"
    }
   ],
   "source": [
    "data[select]"
   ]
  },
  {
   "cell_type": "code",
   "execution_count": 15,
   "metadata": {},
   "outputs": [],
   "source": [
    "data[~select].to_csv(os.path.join(DATADIR, \"GT_train.csv\"), index=False)"
   ]
  },
  {
   "cell_type": "code",
   "execution_count": 16,
   "metadata": {},
   "outputs": [],
   "source": [
    "data[select].to_csv(os.path.join(DATADIR, \"GT_valid.csv\"), index=False)"
   ]
  },
  {
   "cell_type": "code",
   "execution_count": 17,
   "metadata": {},
   "outputs": [],
   "source": [
    "data.to_csv(os.path.join(DATADIR, \"GT_inference.csv\"), index=False)\n",
    "data.to_csv(os.path.join(DATADIR, \"train_ratings2.csv\"), index=False)"
   ]
  },
  {
   "cell_type": "code",
   "execution_count": null,
   "metadata": {},
   "outputs": [],
   "source": []
  }
 ],
 "metadata": {
  "kernelspec": {
   "display_name": "p3",
   "language": "python",
   "name": "python3"
  },
  "language_info": {
   "codemirror_mode": {
    "name": "ipython",
    "version": 3
   },
   "file_extension": ".py",
   "mimetype": "text/x-python",
   "name": "python",
   "nbconvert_exporter": "python",
   "pygments_lexer": "ipython3",
   "version": "3.9.18"
  }
 },
 "nbformat": 4,
 "nbformat_minor": 2
}
