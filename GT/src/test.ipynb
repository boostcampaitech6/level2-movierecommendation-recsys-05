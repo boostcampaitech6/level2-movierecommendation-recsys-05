{
 "cells": [
  {
   "cell_type": "code",
   "execution_count": 1,
   "metadata": {},
   "outputs": [
    {
     "data": {
      "text/html": [
       "<div>\n",
       "<style scoped>\n",
       "    .dataframe tbody tr th:only-of-type {\n",
       "        vertical-align: middle;\n",
       "    }\n",
       "\n",
       "    .dataframe tbody tr th {\n",
       "        vertical-align: top;\n",
       "    }\n",
       "\n",
       "    .dataframe thead th {\n",
       "        text-align: right;\n",
       "    }\n",
       "</style>\n",
       "<table border=\"1\" class=\"dataframe\">\n",
       "  <thead>\n",
       "    <tr style=\"text-align: right;\">\n",
       "      <th></th>\n",
       "      <th>user</th>\n",
       "      <th>item</th>\n",
       "      <th>time</th>\n",
       "    </tr>\n",
       "  </thead>\n",
       "  <tbody>\n",
       "    <tr>\n",
       "      <th>2594470</th>\n",
       "      <td>69194</td>\n",
       "      <td>296</td>\n",
       "      <td>1192369320</td>\n",
       "    </tr>\n",
       "    <tr>\n",
       "      <th>3593897</th>\n",
       "      <td>95925</td>\n",
       "      <td>2109</td>\n",
       "      <td>1417230459</td>\n",
       "    </tr>\n",
       "    <tr>\n",
       "      <th>2242373</th>\n",
       "      <td>59447</td>\n",
       "      <td>8228</td>\n",
       "      <td>1423370476</td>\n",
       "    </tr>\n",
       "    <tr>\n",
       "      <th>521157</th>\n",
       "      <td>13942</td>\n",
       "      <td>5915</td>\n",
       "      <td>1232439896</td>\n",
       "    </tr>\n",
       "    <tr>\n",
       "      <th>5086296</th>\n",
       "      <td>136673</td>\n",
       "      <td>4161</td>\n",
       "      <td>1193073692</td>\n",
       "    </tr>\n",
       "  </tbody>\n",
       "</table>\n",
       "</div>"
      ],
      "text/plain": [
       "           user  item        time\n",
       "2594470   69194   296  1192369320\n",
       "3593897   95925  2109  1417230459\n",
       "2242373   59447  8228  1423370476\n",
       "521157    13942  5915  1232439896\n",
       "5086296  136673  4161  1193073692"
      ]
     },
     "execution_count": 1,
     "metadata": {},
     "output_type": "execute_result"
    }
   ],
   "source": [
    "import pandas as pd\n",
    "import os\n",
    "\n",
    "DATADIR = '../../../data/train'\n",
    "\n",
    "data = pd.read_csv(os.path.join(DATADIR, \"train_ratings.csv\"))\n",
    "data.sample(5)"
   ]
  },
  {
   "cell_type": "code",
   "execution_count": 2,
   "metadata": {},
   "outputs": [
    {
     "data": {
      "text/html": [
       "<div>\n",
       "<style scoped>\n",
       "    .dataframe tbody tr th:only-of-type {\n",
       "        vertical-align: middle;\n",
       "    }\n",
       "\n",
       "    .dataframe tbody tr th {\n",
       "        vertical-align: top;\n",
       "    }\n",
       "\n",
       "    .dataframe thead th {\n",
       "        text-align: right;\n",
       "    }\n",
       "</style>\n",
       "<table border=\"1\" class=\"dataframe\">\n",
       "  <thead>\n",
       "    <tr style=\"text-align: right;\">\n",
       "      <th></th>\n",
       "      <th>user</th>\n",
       "      <th>item</th>\n",
       "      <th>time</th>\n",
       "      <th>test_a</th>\n",
       "      <th>test_b</th>\n",
       "    </tr>\n",
       "  </thead>\n",
       "  <tbody>\n",
       "    <tr>\n",
       "      <th>2130377</th>\n",
       "      <td>56504</td>\n",
       "      <td>1235</td>\n",
       "      <td>1161295641</td>\n",
       "      <td>a</td>\n",
       "      <td>1</td>\n",
       "    </tr>\n",
       "    <tr>\n",
       "      <th>1828733</th>\n",
       "      <td>48481</td>\n",
       "      <td>2683</td>\n",
       "      <td>1260830888</td>\n",
       "      <td>a</td>\n",
       "      <td>1</td>\n",
       "    </tr>\n",
       "    <tr>\n",
       "      <th>3343591</th>\n",
       "      <td>88956</td>\n",
       "      <td>2291</td>\n",
       "      <td>1149284880</td>\n",
       "      <td>a</td>\n",
       "      <td>1</td>\n",
       "    </tr>\n",
       "    <tr>\n",
       "      <th>1604610</th>\n",
       "      <td>42440</td>\n",
       "      <td>1246</td>\n",
       "      <td>1166375369</td>\n",
       "      <td>a</td>\n",
       "      <td>1</td>\n",
       "    </tr>\n",
       "    <tr>\n",
       "      <th>4141597</th>\n",
       "      <td>110913</td>\n",
       "      <td>5013</td>\n",
       "      <td>1179005503</td>\n",
       "      <td>a</td>\n",
       "      <td>1</td>\n",
       "    </tr>\n",
       "  </tbody>\n",
       "</table>\n",
       "</div>"
      ],
      "text/plain": [
       "           user  item        time test_a test_b\n",
       "2130377   56504  1235  1161295641      a      1\n",
       "1828733   48481  2683  1260830888      a      1\n",
       "3343591   88956  2291  1149284880      a      1\n",
       "1604610   42440  1246  1166375369      a      1\n",
       "4141597  110913  5013  1179005503      a      1"
      ]
     },
     "execution_count": 2,
     "metadata": {},
     "output_type": "execute_result"
    }
   ],
   "source": [
    "data['test_a'] = \"a\"\n",
    "data['test_b'] = \"1\"\n",
    "data.sample(5)"
   ]
  },
  {
   "cell_type": "code",
   "execution_count": 3,
   "metadata": {},
   "outputs": [
    {
     "data": {
      "text/plain": [
       "array([    11,     14,     18, ..., 138486, 138492, 138493])"
      ]
     },
     "execution_count": 3,
     "metadata": {},
     "output_type": "execute_result"
    }
   ],
   "source": [
    "ids = data['user'].unique()\n",
    "ids"
   ]
  },
  {
   "cell_type": "code",
   "execution_count": 4,
   "metadata": {},
   "outputs": [
    {
     "name": "stdout",
     "output_type": "stream",
     "text": [
      "선택된 인덱스: [10962 17787 22016 ... 27276  2474  7291]\n"
     ]
    }
   ],
   "source": [
    "import numpy as np\n",
    "\n",
    "num_elements = len(ids)\n",
    "num_to_select = int(num_elements * 0.2)  # 20%\n",
    "\n",
    "# 무작위 인덱스 선택\n",
    "random_indices = np.random.choice(num_elements, size=num_to_select, replace=False)\n",
    "\n",
    "# 선택된 인덱스 출력\n",
    "print(\"선택된 인덱스:\", random_indices)"
   ]
  },
  {
   "cell_type": "code",
   "execution_count": 5,
   "metadata": {},
   "outputs": [
    {
     "data": {
      "text/plain": [
       "(6272, 6272)"
      ]
     },
     "execution_count": 5,
     "metadata": {},
     "output_type": "execute_result"
    }
   ],
   "source": [
    "len(ids[random_indices]), len(set(ids[random_indices]))"
   ]
  },
  {
   "cell_type": "code",
   "execution_count": 6,
   "metadata": {},
   "outputs": [],
   "source": [
    "all_indices = np.arange(num_elements)  # 전체 인덱스 배열 생성\n",
    "not_selected_indices = np.setdiff1d(all_indices, random_indices) "
   ]
  },
  {
   "cell_type": "code",
   "execution_count": 7,
   "metadata": {},
   "outputs": [
    {
     "data": {
      "text/plain": [
       "(6272, 25088)"
      ]
     },
     "execution_count": 7,
     "metadata": {},
     "output_type": "execute_result"
    }
   ],
   "source": [
    "len(ids[random_indices]), len(ids[not_selected_indices])"
   ]
  },
  {
   "cell_type": "code",
   "execution_count": 8,
   "metadata": {},
   "outputs": [],
   "source": [
    "select = data['user'].apply(lambda x: True if x in ids[random_indices] else False)"
   ]
  },
  {
   "cell_type": "code",
   "execution_count": 9,
   "metadata": {},
   "outputs": [
    {
     "data": {
      "text/html": [
       "<div>\n",
       "<style scoped>\n",
       "    .dataframe tbody tr th:only-of-type {\n",
       "        vertical-align: middle;\n",
       "    }\n",
       "\n",
       "    .dataframe tbody tr th {\n",
       "        vertical-align: top;\n",
       "    }\n",
       "\n",
       "    .dataframe thead th {\n",
       "        text-align: right;\n",
       "    }\n",
       "</style>\n",
       "<table border=\"1\" class=\"dataframe\">\n",
       "  <thead>\n",
       "    <tr style=\"text-align: right;\">\n",
       "      <th></th>\n",
       "      <th>user</th>\n",
       "      <th>item</th>\n",
       "      <th>time</th>\n",
       "      <th>test_a</th>\n",
       "      <th>test_b</th>\n",
       "    </tr>\n",
       "  </thead>\n",
       "  <tbody>\n",
       "    <tr>\n",
       "      <th>376</th>\n",
       "      <td>14</td>\n",
       "      <td>8961</td>\n",
       "      <td>1225308746</td>\n",
       "      <td>a</td>\n",
       "      <td>1</td>\n",
       "    </tr>\n",
       "    <tr>\n",
       "      <th>377</th>\n",
       "      <td>14</td>\n",
       "      <td>1396</td>\n",
       "      <td>1225308757</td>\n",
       "      <td>a</td>\n",
       "      <td>1</td>\n",
       "    </tr>\n",
       "    <tr>\n",
       "      <th>378</th>\n",
       "      <td>14</td>\n",
       "      <td>471</td>\n",
       "      <td>1225308771</td>\n",
       "      <td>a</td>\n",
       "      <td>1</td>\n",
       "    </tr>\n",
       "    <tr>\n",
       "      <th>379</th>\n",
       "      <td>14</td>\n",
       "      <td>2105</td>\n",
       "      <td>1225308809</td>\n",
       "      <td>a</td>\n",
       "      <td>1</td>\n",
       "    </tr>\n",
       "    <tr>\n",
       "      <th>380</th>\n",
       "      <td>14</td>\n",
       "      <td>1042</td>\n",
       "      <td>1225308819</td>\n",
       "      <td>a</td>\n",
       "      <td>1</td>\n",
       "    </tr>\n",
       "    <tr>\n",
       "      <th>...</th>\n",
       "      <td>...</td>\n",
       "      <td>...</td>\n",
       "      <td>...</td>\n",
       "      <td>...</td>\n",
       "      <td>...</td>\n",
       "    </tr>\n",
       "    <tr>\n",
       "      <th>5154152</th>\n",
       "      <td>138492</td>\n",
       "      <td>8623</td>\n",
       "      <td>1115351368</td>\n",
       "      <td>a</td>\n",
       "      <td>1</td>\n",
       "    </tr>\n",
       "    <tr>\n",
       "      <th>5154153</th>\n",
       "      <td>138492</td>\n",
       "      <td>1073</td>\n",
       "      <td>1115351381</td>\n",
       "      <td>a</td>\n",
       "      <td>1</td>\n",
       "    </tr>\n",
       "    <tr>\n",
       "      <th>5154154</th>\n",
       "      <td>138492</td>\n",
       "      <td>3039</td>\n",
       "      <td>1115351387</td>\n",
       "      <td>a</td>\n",
       "      <td>1</td>\n",
       "    </tr>\n",
       "    <tr>\n",
       "      <th>5154155</th>\n",
       "      <td>138492</td>\n",
       "      <td>1968</td>\n",
       "      <td>1115351393</td>\n",
       "      <td>a</td>\n",
       "      <td>1</td>\n",
       "    </tr>\n",
       "    <tr>\n",
       "      <th>5154156</th>\n",
       "      <td>138492</td>\n",
       "      <td>3210</td>\n",
       "      <td>1115351445</td>\n",
       "      <td>a</td>\n",
       "      <td>1</td>\n",
       "    </tr>\n",
       "  </tbody>\n",
       "</table>\n",
       "<p>1022040 rows × 5 columns</p>\n",
       "</div>"
      ],
      "text/plain": [
       "           user  item        time test_a test_b\n",
       "376          14  8961  1225308746      a      1\n",
       "377          14  1396  1225308757      a      1\n",
       "378          14   471  1225308771      a      1\n",
       "379          14  2105  1225308809      a      1\n",
       "380          14  1042  1225308819      a      1\n",
       "...         ...   ...         ...    ...    ...\n",
       "5154152  138492  8623  1115351368      a      1\n",
       "5154153  138492  1073  1115351381      a      1\n",
       "5154154  138492  3039  1115351387      a      1\n",
       "5154155  138492  1968  1115351393      a      1\n",
       "5154156  138492  3210  1115351445      a      1\n",
       "\n",
       "[1022040 rows x 5 columns]"
      ]
     },
     "execution_count": 9,
     "metadata": {},
     "output_type": "execute_result"
    }
   ],
   "source": [
    "data[select]"
   ]
  },
  {
   "cell_type": "code",
   "execution_count": 10,
   "metadata": {},
   "outputs": [],
   "source": [
    "data[~select].to_csv(os.path.join(DATADIR, \"GT_train.csv\"), index=False)"
   ]
  },
  {
   "cell_type": "code",
   "execution_count": 11,
   "metadata": {},
   "outputs": [],
   "source": [
    "data[select].to_csv(os.path.join(DATADIR, \"GT_valid.csv\"), index=False)"
   ]
  },
  {
   "cell_type": "code",
   "execution_count": 12,
   "metadata": {},
   "outputs": [],
   "source": [
    "data.to_csv(os.path.join(DATADIR, \"GT_inference.csv\"), index=False)\n",
    "data.to_csv(os.path.join(DATADIR, \"train_ratings2.csv\"), index=False)"
   ]
  },
  {
   "cell_type": "code",
   "execution_count": null,
   "metadata": {},
   "outputs": [],
   "source": []
  }
 ],
 "metadata": {
  "kernelspec": {
   "display_name": "p3",
   "language": "python",
   "name": "python3"
  },
  "language_info": {
   "codemirror_mode": {
    "name": "ipython",
    "version": 3
   },
   "file_extension": ".py",
   "mimetype": "text/x-python",
   "name": "python",
   "nbconvert_exporter": "python",
   "pygments_lexer": "ipython3",
   "version": "3.9.18"
  }
 },
 "nbformat": 4,
 "nbformat_minor": 2
}
