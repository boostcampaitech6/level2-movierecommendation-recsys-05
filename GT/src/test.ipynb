{
 "cells": [
  {
   "cell_type": "code",
   "execution_count": 2,
   "metadata": {},
   "outputs": [
    {
     "data": {
      "text/html": [
       "<div>\n",
       "<style scoped>\n",
       "    .dataframe tbody tr th:only-of-type {\n",
       "        vertical-align: middle;\n",
       "    }\n",
       "\n",
       "    .dataframe tbody tr th {\n",
       "        vertical-align: top;\n",
       "    }\n",
       "\n",
       "    .dataframe thead th {\n",
       "        text-align: right;\n",
       "    }\n",
       "</style>\n",
       "<table border=\"1\" class=\"dataframe\">\n",
       "  <thead>\n",
       "    <tr style=\"text-align: right;\">\n",
       "      <th></th>\n",
       "      <th>user</th>\n",
       "      <th>item</th>\n",
       "      <th>time</th>\n",
       "    </tr>\n",
       "  </thead>\n",
       "  <tbody>\n",
       "    <tr>\n",
       "      <th>4597148</th>\n",
       "      <td>122989</td>\n",
       "      <td>3882</td>\n",
       "      <td>1126666210</td>\n",
       "    </tr>\n",
       "    <tr>\n",
       "      <th>321383</th>\n",
       "      <td>8459</td>\n",
       "      <td>2641</td>\n",
       "      <td>1261992776</td>\n",
       "    </tr>\n",
       "    <tr>\n",
       "      <th>1694756</th>\n",
       "      <td>44826</td>\n",
       "      <td>1552</td>\n",
       "      <td>1132707118</td>\n",
       "    </tr>\n",
       "    <tr>\n",
       "      <th>1184118</th>\n",
       "      <td>31236</td>\n",
       "      <td>593</td>\n",
       "      <td>1189776316</td>\n",
       "    </tr>\n",
       "    <tr>\n",
       "      <th>2874695</th>\n",
       "      <td>76842</td>\n",
       "      <td>377</td>\n",
       "      <td>1209636894</td>\n",
       "    </tr>\n",
       "  </tbody>\n",
       "</table>\n",
       "</div>"
      ],
      "text/plain": [
       "           user  item        time\n",
       "4597148  122989  3882  1126666210\n",
       "321383     8459  2641  1261992776\n",
       "1694756   44826  1552  1132707118\n",
       "1184118   31236   593  1189776316\n",
       "2874695   76842   377  1209636894"
      ]
     },
     "execution_count": 2,
     "metadata": {},
     "output_type": "execute_result"
    }
   ],
   "source": [
    "import pandas as pd\n",
    "\n",
    "DATADIR = '../../../data/train/train_ratings.csv'\n",
    "\n",
    "data = pd.read_csv(DATADIR)\n",
    "data.sample(5)"
   ]
  },
  {
   "cell_type": "code",
   "execution_count": 5,
   "metadata": {},
   "outputs": [
    {
     "data": {
      "text/plain": [
       "array([    11,     14,     18, ..., 138486, 138492, 138493])"
      ]
     },
     "execution_count": 5,
     "metadata": {},
     "output_type": "execute_result"
    }
   ],
   "source": [
    "ids = data['user'].unique()\n",
    "ids"
   ]
  },
  {
   "cell_type": "code",
   "execution_count": 6,
   "metadata": {},
   "outputs": [
    {
     "name": "stdout",
     "output_type": "stream",
     "text": [
      "선택된 인덱스: [13365  5519 22922 ...  8100   853  9248]\n"
     ]
    }
   ],
   "source": [
    "import numpy as np\n",
    "\n",
    "num_elements = len(ids)\n",
    "num_to_select = int(num_elements * 0.2)  # 20%\n",
    "\n",
    "# 무작위 인덱스 선택\n",
    "random_indices = np.random.choice(num_elements, size=num_to_select, replace=False)\n",
    "\n",
    "# 선택된 인덱스 출력\n",
    "print(\"선택된 인덱스:\", random_indices)"
   ]
  },
  {
   "cell_type": "code",
   "execution_count": 10,
   "metadata": {},
   "outputs": [
    {
     "data": {
      "text/plain": [
       "(6272, 6272)"
      ]
     },
     "execution_count": 10,
     "metadata": {},
     "output_type": "execute_result"
    }
   ],
   "source": [
    "len(ids[random_indices]), len(set(ids[random_indices]))"
   ]
  },
  {
   "cell_type": "code",
   "execution_count": 22,
   "metadata": {},
   "outputs": [],
   "source": [
    "all_indices = np.arange(num_elements)  # 전체 인덱스 배열 생성\n",
    "not_selected_indices = np.setdiff1d(all_indices, random_indices) "
   ]
  },
  {
   "cell_type": "code",
   "execution_count": 23,
   "metadata": {},
   "outputs": [
    {
     "data": {
      "text/plain": [
       "(6272, 25088)"
      ]
     },
     "execution_count": 23,
     "metadata": {},
     "output_type": "execute_result"
    }
   ],
   "source": [
    "len(ids[random_indices]), len(ids[not_selected_indices])"
   ]
  },
  {
   "cell_type": "code",
   "execution_count": null,
   "metadata": {},
   "outputs": [],
   "source": []
  }
 ],
 "metadata": {
  "kernelspec": {
   "display_name": "p3",
   "language": "python",
   "name": "python3"
  },
  "language_info": {
   "codemirror_mode": {
    "name": "ipython",
    "version": 3
   },
   "file_extension": ".py",
   "mimetype": "text/x-python",
   "name": "python",
   "nbconvert_exporter": "python",
   "pygments_lexer": "ipython3",
   "version": "3.9.18"
  }
 },
 "nbformat": 4,
 "nbformat_minor": 2
}
