{
 "cells": [
  {
   "cell_type": "code",
   "execution_count": 2,
   "metadata": {},
   "outputs": [
    {
     "data": {
      "text/html": [
       "<div>\n",
       "<style scoped>\n",
       "    .dataframe tbody tr th:only-of-type {\n",
       "        vertical-align: middle;\n",
       "    }\n",
       "\n",
       "    .dataframe tbody tr th {\n",
       "        vertical-align: top;\n",
       "    }\n",
       "\n",
       "    .dataframe thead th {\n",
       "        text-align: right;\n",
       "    }\n",
       "</style>\n",
       "<table border=\"1\" class=\"dataframe\">\n",
       "  <thead>\n",
       "    <tr style=\"text-align: right;\">\n",
       "      <th></th>\n",
       "      <th>user</th>\n",
       "      <th>item</th>\n",
       "      <th>time</th>\n",
       "    </tr>\n",
       "  </thead>\n",
       "  <tbody>\n",
       "    <tr>\n",
       "      <th>746807</th>\n",
       "      <td>19768</td>\n",
       "      <td>741</td>\n",
       "      <td>1225243954</td>\n",
       "    </tr>\n",
       "    <tr>\n",
       "      <th>1949496</th>\n",
       "      <td>51745</td>\n",
       "      <td>7364</td>\n",
       "      <td>1172522175</td>\n",
       "    </tr>\n",
       "    <tr>\n",
       "      <th>1359776</th>\n",
       "      <td>35854</td>\n",
       "      <td>1641</td>\n",
       "      <td>1180197472</td>\n",
       "    </tr>\n",
       "    <tr>\n",
       "      <th>4546956</th>\n",
       "      <td>121707</td>\n",
       "      <td>8636</td>\n",
       "      <td>1228248411</td>\n",
       "    </tr>\n",
       "    <tr>\n",
       "      <th>3175330</th>\n",
       "      <td>84677</td>\n",
       "      <td>2858</td>\n",
       "      <td>1209474988</td>\n",
       "    </tr>\n",
       "  </tbody>\n",
       "</table>\n",
       "</div>"
      ],
      "text/plain": [
       "           user  item        time\n",
       "746807    19768   741  1225243954\n",
       "1949496   51745  7364  1172522175\n",
       "1359776   35854  1641  1180197472\n",
       "4546956  121707  8636  1228248411\n",
       "3175330   84677  2858  1209474988"
      ]
     },
     "execution_count": 2,
     "metadata": {},
     "output_type": "execute_result"
    }
   ],
   "source": [
    "import pandas as pd\n",
    "\n",
    "DATADIR = '../../../data/train/train_ratings.csv'\n",
    "\n",
    "data = pd.read_csv(DATADIR)\n",
    "data.sample(5)"
   ]
  },
  {
   "cell_type": "markdown",
   "metadata": {},
   "source": [
    "사용자별로 여러번 본 영화는 없음"
   ]
  },
  {
   "cell_type": "code",
   "execution_count": 8,
   "metadata": {},
   "outputs": [
    {
     "data": {
      "text/plain": [
       "{1}"
      ]
     },
     "execution_count": 8,
     "metadata": {},
     "output_type": "execute_result"
    }
   ],
   "source": [
    "a = data.groupby('user')['item'].value_counts().values\n",
    "set(a)"
   ]
  },
  {
   "cell_type": "markdown",
   "metadata": {},
   "source": [
    "평균 영화를 시청한 횟수"
   ]
  },
  {
   "cell_type": "code",
   "execution_count": 10,
   "metadata": {},
   "outputs": [
    {
     "data": {
      "text/plain": [
       "count    31360.000000\n",
       "mean       164.364509\n",
       "std        150.009107\n",
       "min         16.000000\n",
       "25%         71.000000\n",
       "50%        114.000000\n",
       "75%        200.000000\n",
       "max       2912.000000\n",
       "Name: item, dtype: float64"
      ]
     },
     "execution_count": 10,
     "metadata": {},
     "output_type": "execute_result"
    }
   ],
   "source": [
    "data.groupby('user')['item'].count().describe()"
   ]
  },
  {
   "cell_type": "code",
   "execution_count": 12,
   "metadata": {},
   "outputs": [],
   "source": [
    "from datetime import datetime as dt"
   ]
  },
  {
   "cell_type": "code",
   "execution_count": 14,
   "metadata": {},
   "outputs": [
    {
     "data": {
      "text/plain": [
       "datetime.datetime(2009, 1, 1, 13, 2, 9)"
      ]
     },
     "execution_count": 14,
     "metadata": {},
     "output_type": "execute_result"
    }
   ],
   "source": [
    "dt.fromtimestamp(data.iloc[0, 2])"
   ]
  },
  {
   "cell_type": "code",
   "execution_count": null,
   "metadata": {},
   "outputs": [],
   "source": []
  }
 ],
 "metadata": {
  "kernelspec": {
   "display_name": "p3",
   "language": "python",
   "name": "python3"
  },
  "language_info": {
   "codemirror_mode": {
    "name": "ipython",
    "version": 3
   },
   "file_extension": ".py",
   "mimetype": "text/x-python",
   "name": "python",
   "nbconvert_exporter": "python",
   "pygments_lexer": "ipython3",
   "version": "3.9.18"
  }
 },
 "nbformat": 4,
 "nbformat_minor": 2
}
