{
 "cells": [
  {
   "cell_type": "code",
   "execution_count": 32,
   "metadata": {},
   "outputs": [
    {
     "data": {
      "text/html": [
       "<div>\n",
       "<style scoped>\n",
       "    .dataframe tbody tr th:only-of-type {\n",
       "        vertical-align: middle;\n",
       "    }\n",
       "\n",
       "    .dataframe tbody tr th {\n",
       "        vertical-align: top;\n",
       "    }\n",
       "\n",
       "    .dataframe thead th {\n",
       "        text-align: right;\n",
       "    }\n",
       "</style>\n",
       "<table border=\"1\" class=\"dataframe\">\n",
       "  <thead>\n",
       "    <tr style=\"text-align: right;\">\n",
       "      <th></th>\n",
       "      <th>user</th>\n",
       "      <th>item</th>\n",
       "      <th>time</th>\n",
       "    </tr>\n",
       "  </thead>\n",
       "  <tbody>\n",
       "    <tr>\n",
       "      <th>5062138</th>\n",
       "      <td>135974</td>\n",
       "      <td>5956</td>\n",
       "      <td>1128555805</td>\n",
       "    </tr>\n",
       "    <tr>\n",
       "      <th>3539076</th>\n",
       "      <td>94377</td>\n",
       "      <td>56788</td>\n",
       "      <td>1212760625</td>\n",
       "    </tr>\n",
       "    <tr>\n",
       "      <th>4882941</th>\n",
       "      <td>130987</td>\n",
       "      <td>78729</td>\n",
       "      <td>1281260127</td>\n",
       "    </tr>\n",
       "    <tr>\n",
       "      <th>4815973</th>\n",
       "      <td>129225</td>\n",
       "      <td>377</td>\n",
       "      <td>1262266446</td>\n",
       "    </tr>\n",
       "    <tr>\n",
       "      <th>3345968</th>\n",
       "      <td>89046</td>\n",
       "      <td>543</td>\n",
       "      <td>1225602526</td>\n",
       "    </tr>\n",
       "  </tbody>\n",
       "</table>\n",
       "</div>"
      ],
      "text/plain": [
       "           user   item        time\n",
       "5062138  135974   5956  1128555805\n",
       "3539076   94377  56788  1212760625\n",
       "4882941  130987  78729  1281260127\n",
       "4815973  129225    377  1262266446\n",
       "3345968   89046    543  1225602526"
      ]
     },
     "execution_count": 32,
     "metadata": {},
     "output_type": "execute_result"
    }
   ],
   "source": [
    "import pandas as pd\n",
    "\n",
    "DATADIR = '../../../data/train/train_ratings.csv'\n",
    "\n",
    "data = pd.read_csv(DATADIR)\n",
    "data.sample(5)"
   ]
  },
  {
   "cell_type": "markdown",
   "metadata": {},
   "source": [
    "사용자별로 여러번 본 영화는 없음"
   ]
  },
  {
   "cell_type": "code",
   "execution_count": 33,
   "metadata": {},
   "outputs": [
    {
     "data": {
      "text/plain": [
       "{1}"
      ]
     },
     "execution_count": 33,
     "metadata": {},
     "output_type": "execute_result"
    }
   ],
   "source": [
    "a = data.groupby('user')['item'].value_counts().values\n",
    "set(a)"
   ]
  },
  {
   "cell_type": "markdown",
   "metadata": {},
   "source": [
    "평균 영화를 시청한 횟수"
   ]
  },
  {
   "cell_type": "code",
   "execution_count": 34,
   "metadata": {},
   "outputs": [
    {
     "data": {
      "text/plain": [
       "count    31360.000000\n",
       "mean       164.364509\n",
       "std        150.009107\n",
       "min         16.000000\n",
       "25%         71.000000\n",
       "50%        114.000000\n",
       "75%        200.000000\n",
       "max       2912.000000\n",
       "Name: item, dtype: float64"
      ]
     },
     "execution_count": 34,
     "metadata": {},
     "output_type": "execute_result"
    }
   ],
   "source": [
    "data.groupby('user')['item'].count().describe()"
   ]
  },
  {
   "cell_type": "code",
   "execution_count": 35,
   "metadata": {},
   "outputs": [],
   "source": [
    "from datetime import datetime as dt"
   ]
  },
  {
   "cell_type": "markdown",
   "metadata": {},
   "source": [
    "연도별 시청 횟수"
   ]
  },
  {
   "cell_type": "code",
   "execution_count": 36,
   "metadata": {},
   "outputs": [
    {
     "data": {
      "text/plain": [
       "0          2009\n",
       "1          2009\n",
       "2          2009\n",
       "3          2009\n",
       "4          2009\n",
       "           ... \n",
       "5154466    2009\n",
       "5154467    2009\n",
       "5154468    2009\n",
       "5154469    2009\n",
       "5154470    2009\n",
       "Name: time, Length: 5154471, dtype: int64"
      ]
     },
     "execution_count": 36,
     "metadata": {},
     "output_type": "execute_result"
    }
   ],
   "source": [
    "year = data.iloc[:, 2].apply(lambda x: dt.fromtimestamp(x).year)\n",
    "year"
   ]
  },
  {
   "cell_type": "code",
   "execution_count": 37,
   "metadata": {},
   "outputs": [],
   "source": [
    "import matplotlib\n",
    "import matplotlib.pyplot as plt\n",
    "import matplotlib.ticker as ticker\n",
    "import seaborn as sns\n",
    "\n",
    "sns.set_theme(color_codes = True)"
   ]
  },
  {
   "cell_type": "code",
   "execution_count": 38,
   "metadata": {},
   "outputs": [
    {
     "data": {
      "image/png": "[encoded data removed]",
      "text/plain": [
       "<Figure size 640x480 with 1 Axes>"
      ]
     },
     "metadata": {},
     "output_type": "display_data"
    }
   ],
   "source": [
    "sns.countplot(x=year)\n",
    "plt.xlabel('Year')\n",
    "plt.ylabel('Count')\n",
    "plt.title('Distribution of Years')\n",
    "plt.show()\n"
   ]
  },
  {
   "cell_type": "markdown",
   "metadata": {},
   "source": [
    "월별 시청 횟수"
   ]
  },
  {
   "cell_type": "code",
   "execution_count": 39,
   "metadata": {},
   "outputs": [
    {
     "data": {
      "text/plain": [
       "0           1\n",
       "1           1\n",
       "2           1\n",
       "3           1\n",
       "4           1\n",
       "           ..\n",
       "5154466    12\n",
       "5154467    12\n",
       "5154468    12\n",
       "5154469    12\n",
       "5154470    12\n",
       "Name: time, Length: 5154471, dtype: int64"
      ]
     },
     "execution_count": 39,
     "metadata": {},
     "output_type": "execute_result"
    }
   ],
   "source": [
    "month = data.iloc[:, 2].apply(lambda x: dt.fromtimestamp(x).month)\n",
    "month"
   ]
  },
  {
   "cell_type": "code",
   "execution_count": 40,
   "metadata": {},
   "outputs": [
    {
     "data": {
      "image/png": "[encoded data removed]",
      "text/plain": [
       "<Figure size 640x480 with 1 Axes>"
      ]
     },
     "metadata": {},
     "output_type": "display_data"
    }
   ],
   "source": [
    "sns.countplot(x=month)\n",
    "plt.xlabel('Year')\n",
    "plt.ylabel('Count')\n",
    "plt.title('Distribution of Years')\n",
    "plt.show()"
   ]
  },
  {
   "cell_type": "code",
   "execution_count": null,
   "metadata": {},
   "outputs": [],
   "source": []
  },
  {
   "cell_type": "code",
   "execution_count": 52,
   "metadata": {},
   "outputs": [
    {
     "data": {
      "text/html": [
       "<div>\n",
       "<style scoped>\n",
       "    .dataframe tbody tr th:only-of-type {\n",
       "        vertical-align: middle;\n",
       "    }\n",
       "\n",
       "    .dataframe tbody tr th {\n",
       "        vertical-align: top;\n",
       "    }\n",
       "\n",
       "    .dataframe thead th {\n",
       "        text-align: right;\n",
       "    }\n",
       "</style>\n",
       "<table border=\"1\" class=\"dataframe\">\n",
       "  <thead>\n",
       "    <tr style=\"text-align: right;\">\n",
       "      <th></th>\n",
       "      <th>user</th>\n",
       "      <th>item</th>\n",
       "      <th>time</th>\n",
       "      <th>year</th>\n",
       "      <th>month</th>\n",
       "      <th>YearMonth</th>\n",
       "    </tr>\n",
       "  </thead>\n",
       "  <tbody>\n",
       "    <tr>\n",
       "      <th>1011592</th>\n",
       "      <td>26640</td>\n",
       "      <td>1625</td>\n",
       "      <td>1183491254</td>\n",
       "      <td>2007</td>\n",
       "      <td>7</td>\n",
       "      <td>2007-07</td>\n",
       "    </tr>\n",
       "    <tr>\n",
       "      <th>2110946</th>\n",
       "      <td>55983</td>\n",
       "      <td>3083</td>\n",
       "      <td>1278802693</td>\n",
       "      <td>2010</td>\n",
       "      <td>7</td>\n",
       "      <td>2010-07</td>\n",
       "    </tr>\n",
       "    <tr>\n",
       "      <th>3557297</th>\n",
       "      <td>94964</td>\n",
       "      <td>4447</td>\n",
       "      <td>1360062709</td>\n",
       "      <td>2013</td>\n",
       "      <td>2</td>\n",
       "      <td>2013-02</td>\n",
       "    </tr>\n",
       "    <tr>\n",
       "      <th>4660052</th>\n",
       "      <td>124831</td>\n",
       "      <td>52435</td>\n",
       "      <td>1256910801</td>\n",
       "      <td>2009</td>\n",
       "      <td>10</td>\n",
       "      <td>2009-10</td>\n",
       "    </tr>\n",
       "    <tr>\n",
       "      <th>1429360</th>\n",
       "      <td>37726</td>\n",
       "      <td>3751</td>\n",
       "      <td>1277818484</td>\n",
       "      <td>2010</td>\n",
       "      <td>6</td>\n",
       "      <td>2010-06</td>\n",
       "    </tr>\n",
       "  </tbody>\n",
       "</table>\n",
       "</div>"
      ],
      "text/plain": [
       "           user   item        time  year month YearMonth\n",
       "1011592   26640   1625  1183491254  2007     7   2007-07\n",
       "2110946   55983   3083  1278802693  2010     7   2010-07\n",
       "3557297   94964   4447  1360062709  2013     2   2013-02\n",
       "4660052  124831  52435  1256910801  2009    10   2009-10\n",
       "1429360   37726   3751  1277818484  2010     6   2010-06"
      ]
     },
     "execution_count": 52,
     "metadata": {},
     "output_type": "execute_result"
    }
   ],
   "source": [
    "# Create a new column 'YearMonth' by combining 'year' and 'month'\n",
    "data['year'] = year.astype(str) \n",
    "data['month'] = month.astype(str)\n",
    "data['YearMonth'] = data['year'].astype(str) + '-' + data['month'].astype(str).str.zfill(2)\n",
    "data.sample(5)"
   ]
  },
  {
   "cell_type": "code",
   "execution_count": 54,
   "metadata": {},
   "outputs": [
    {
     "data": {
      "text/html": [
       "<div>\n",
       "<style scoped>\n",
       "    .dataframe tbody tr th:only-of-type {\n",
       "        vertical-align: middle;\n",
       "    }\n",
       "\n",
       "    .dataframe tbody tr th {\n",
       "        vertical-align: top;\n",
       "    }\n",
       "\n",
       "    .dataframe thead th {\n",
       "        text-align: right;\n",
       "    }\n",
       "</style>\n",
       "<table border=\"1\" class=\"dataframe\">\n",
       "  <thead>\n",
       "    <tr style=\"text-align: right;\">\n",
       "      <th></th>\n",
       "      <th>user</th>\n",
       "      <th>item</th>\n",
       "      <th>time</th>\n",
       "      <th>year</th>\n",
       "      <th>month</th>\n",
       "      <th>YearMonth</th>\n",
       "    </tr>\n",
       "  </thead>\n",
       "  <tbody>\n",
       "    <tr>\n",
       "      <th>4453149</th>\n",
       "      <td>119055</td>\n",
       "      <td>6232</td>\n",
       "      <td>1113806509</td>\n",
       "      <td>2005</td>\n",
       "      <td>4</td>\n",
       "      <td>2005-04</td>\n",
       "    </tr>\n",
       "    <tr>\n",
       "      <th>3956624</th>\n",
       "      <td>105575</td>\n",
       "      <td>1748</td>\n",
       "      <td>1114082077</td>\n",
       "      <td>2005</td>\n",
       "      <td>4</td>\n",
       "      <td>2005-04</td>\n",
       "    </tr>\n",
       "    <tr>\n",
       "      <th>3956625</th>\n",
       "      <td>105575</td>\n",
       "      <td>1333</td>\n",
       "      <td>1114082097</td>\n",
       "      <td>2005</td>\n",
       "      <td>4</td>\n",
       "      <td>2005-04</td>\n",
       "    </tr>\n",
       "    <tr>\n",
       "      <th>3956626</th>\n",
       "      <td>105575</td>\n",
       "      <td>2455</td>\n",
       "      <td>1114082116</td>\n",
       "      <td>2005</td>\n",
       "      <td>4</td>\n",
       "      <td>2005-04</td>\n",
       "    </tr>\n",
       "    <tr>\n",
       "      <th>3956627</th>\n",
       "      <td>105575</td>\n",
       "      <td>1281</td>\n",
       "      <td>1114082825</td>\n",
       "      <td>2005</td>\n",
       "      <td>4</td>\n",
       "      <td>2005-04</td>\n",
       "    </tr>\n",
       "    <tr>\n",
       "      <th>...</th>\n",
       "      <td>...</td>\n",
       "      <td>...</td>\n",
       "      <td>...</td>\n",
       "      <td>...</td>\n",
       "      <td>...</td>\n",
       "      <td>...</td>\n",
       "    </tr>\n",
       "    <tr>\n",
       "      <th>4931357</th>\n",
       "      <td>132073</td>\n",
       "      <td>111362</td>\n",
       "      <td>1426719158</td>\n",
       "      <td>2015</td>\n",
       "      <td>3</td>\n",
       "      <td>2015-03</td>\n",
       "    </tr>\n",
       "    <tr>\n",
       "      <th>4931356</th>\n",
       "      <td>132073</td>\n",
       "      <td>86882</td>\n",
       "      <td>1426719150</td>\n",
       "      <td>2015</td>\n",
       "      <td>3</td>\n",
       "      <td>2015-03</td>\n",
       "    </tr>\n",
       "    <tr>\n",
       "      <th>4931355</th>\n",
       "      <td>132073</td>\n",
       "      <td>1265</td>\n",
       "      <td>1426719138</td>\n",
       "      <td>2015</td>\n",
       "      <td>3</td>\n",
       "      <td>2015-03</td>\n",
       "    </tr>\n",
       "    <tr>\n",
       "      <th>4931369</th>\n",
       "      <td>132073</td>\n",
       "      <td>51931</td>\n",
       "      <td>1426767747</td>\n",
       "      <td>2015</td>\n",
       "      <td>3</td>\n",
       "      <td>2015-03</td>\n",
       "    </tr>\n",
       "    <tr>\n",
       "      <th>838039</th>\n",
       "      <td>22287</td>\n",
       "      <td>778</td>\n",
       "      <td>1425917390</td>\n",
       "      <td>2015</td>\n",
       "      <td>3</td>\n",
       "      <td>2015-03</td>\n",
       "    </tr>\n",
       "  </tbody>\n",
       "</table>\n",
       "<p>5154471 rows × 6 columns</p>\n",
       "</div>"
      ],
      "text/plain": [
       "           user    item        time  year month YearMonth\n",
       "4453149  119055    6232  1113806509  2005     4   2005-04\n",
       "3956624  105575    1748  1114082077  2005     4   2005-04\n",
       "3956625  105575    1333  1114082097  2005     4   2005-04\n",
       "3956626  105575    2455  1114082116  2005     4   2005-04\n",
       "3956627  105575    1281  1114082825  2005     4   2005-04\n",
       "...         ...     ...         ...   ...   ...       ...\n",
       "4931357  132073  111362  1426719158  2015     3   2015-03\n",
       "4931356  132073   86882  1426719150  2015     3   2015-03\n",
       "4931355  132073    1265  1426719138  2015     3   2015-03\n",
       "4931369  132073   51931  1426767747  2015     3   2015-03\n",
       "838039    22287     778  1425917390  2015     3   2015-03\n",
       "\n",
       "[5154471 rows x 6 columns]"
      ]
     },
     "execution_count": 54,
     "metadata": {},
     "output_type": "execute_result"
    }
   ],
   "source": [
    "# data['YearMonth'] = pd.to_datetime(data['YearMonth'], format='%Y-%m')\n",
    "data_sorted = data.sort_values('YearMonth')\n",
    "data_sorted"
   ]
  },
  {
   "cell_type": "code",
   "execution_count": 55,
   "metadata": {},
   "outputs": [
    {
     "data": {
      "text/html": [
       "<div>\n",
       "<style scoped>\n",
       "    .dataframe tbody tr th:only-of-type {\n",
       "        vertical-align: middle;\n",
       "    }\n",
       "\n",
       "    .dataframe tbody tr th {\n",
       "        vertical-align: top;\n",
       "    }\n",
       "\n",
       "    .dataframe thead th {\n",
       "        text-align: right;\n",
       "    }\n",
       "</style>\n",
       "<table border=\"1\" class=\"dataframe\">\n",
       "  <thead>\n",
       "    <tr style=\"text-align: right;\">\n",
       "      <th></th>\n",
       "      <th>YearMonth</th>\n",
       "      <th>Count</th>\n",
       "    </tr>\n",
       "  </thead>\n",
       "  <tbody>\n",
       "    <tr>\n",
       "      <th>0</th>\n",
       "      <td>2005-04</td>\n",
       "      <td>51465</td>\n",
       "    </tr>\n",
       "    <tr>\n",
       "      <th>1</th>\n",
       "      <td>2005-05</td>\n",
       "      <td>84850</td>\n",
       "    </tr>\n",
       "    <tr>\n",
       "      <th>2</th>\n",
       "      <td>2005-06</td>\n",
       "      <td>78334</td>\n",
       "    </tr>\n",
       "    <tr>\n",
       "      <th>3</th>\n",
       "      <td>2005-07</td>\n",
       "      <td>67531</td>\n",
       "    </tr>\n",
       "    <tr>\n",
       "      <th>4</th>\n",
       "      <td>2005-08</td>\n",
       "      <td>55710</td>\n",
       "    </tr>\n",
       "    <tr>\n",
       "      <th>...</th>\n",
       "      <td>...</td>\n",
       "      <td>...</td>\n",
       "    </tr>\n",
       "    <tr>\n",
       "      <th>115</th>\n",
       "      <td>2014-11</td>\n",
       "      <td>42517</td>\n",
       "    </tr>\n",
       "    <tr>\n",
       "      <th>116</th>\n",
       "      <td>2014-12</td>\n",
       "      <td>43037</td>\n",
       "    </tr>\n",
       "    <tr>\n",
       "      <th>117</th>\n",
       "      <td>2015-01</td>\n",
       "      <td>54156</td>\n",
       "    </tr>\n",
       "    <tr>\n",
       "      <th>118</th>\n",
       "      <td>2015-02</td>\n",
       "      <td>43920</td>\n",
       "    </tr>\n",
       "    <tr>\n",
       "      <th>119</th>\n",
       "      <td>2015-03</td>\n",
       "      <td>44218</td>\n",
       "    </tr>\n",
       "  </tbody>\n",
       "</table>\n",
       "<p>120 rows × 2 columns</p>\n",
       "</div>"
      ],
      "text/plain": [
       "    YearMonth  Count\n",
       "0     2005-04  51465\n",
       "1     2005-05  84850\n",
       "2     2005-06  78334\n",
       "3     2005-07  67531\n",
       "4     2005-08  55710\n",
       "..        ...    ...\n",
       "115   2014-11  42517\n",
       "116   2014-12  43037\n",
       "117   2015-01  54156\n",
       "118   2015-02  43920\n",
       "119   2015-03  44218\n",
       "\n",
       "[120 rows x 2 columns]"
      ]
     },
     "execution_count": 55,
     "metadata": {},
     "output_type": "execute_result"
    }
   ],
   "source": [
    "data_count = data_sorted.groupby('YearMonth').size().reset_index(name='Count')\n",
    "data_count"
   ]
  },
  {
   "cell_type": "code",
   "execution_count": 56,
   "metadata": {},
   "outputs": [
    {
     "name": "stderr",
     "output_type": "stream",
     "text": [
      "/tmp/ipykernel_390137/545335730.py:3: FutureWarning: \n",
      "\n",
      "Passing `palette` without assigning `hue` is deprecated and will be removed in v0.14.0. Assign the `x` variable to `hue` and set `legend=False` for the same effect.\n",
      "\n",
      "  sns.barplot(x='YearMonth', y='Count', data=data_count, palette=\"viridis\")\n"
     ]
    },
    {
     "data": {
      "image/png": "[encoded data removed]",
      "text/plain": [
       "<Figure size 1800x600 with 1 Axes>"
      ]
     },
     "metadata": {},
     "output_type": "display_data"
    }
   ],
   "source": [
    "# Visualize the distribution of YearMonth\n",
    "plt.figure(figsize=(18, 6))  # Adjust the figure size as per your preference\n",
    "sns.barplot(x='YearMonth', y='Count', data=data_count, palette=\"viridis\")\n",
    "plt.xticks(rotation=90)\n",
    "plt.xlabel('Year-Month')\n",
    "plt.ylabel('Count')\n",
    "plt.title('Distribution of Year-Month')\n",
    "plt.show()\n"
   ]
  },
  {
   "cell_type": "code",
   "execution_count": null,
   "metadata": {},
   "outputs": [],
   "source": []
  }
 ],
 "metadata": {
  "kernelspec": {
   "display_name": "p3",
   "language": "python",
   "name": "python3"
  },
  "language_info": {
   "codemirror_mode": {
    "name": "ipython",
    "version": 3
   },
   "file_extension": ".py",
   "mimetype": "text/x-python",
   "name": "python",
   "nbconvert_exporter": "python",
   "pygments_lexer": "ipython3",
   "version": "3.9.18"
  }
 },
 "nbformat": 4,
 "nbformat_minor": 2
}
